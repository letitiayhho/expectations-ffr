{
 "cells": [
  {
   "cell_type": "code",
   "execution_count": 9,
   "id": "30820536",
   "metadata": {},
   "outputs": [],
   "source": [
    "from matplotlib import pyplot as plt\n",
    "from itertools import product\n",
    "# import seaborn as sns\n",
    "import pandas as pd\n",
    "import pingouin as pg\n",
    "import os.path as op\n",
    "import argparse\n",
    "import re\n",
    "import numpy as np\n",
    "import matplotlib.pyplot as plt\n",
    "import mne\n",
    "import seaborn as sns\n",
    "from scipy import signal, stats\n",
    "from scipy.fft import fftshift\n",
    "from bids import BIDSLayout\n",
    "from statsmodels.stats.anova import AnovaRM\n",
    "\n",
    "from util.io.ffr import *\n",
    "palette_tab10 = sns.color_palette(\"tab10\", 10)"
   ]
  },
  {
   "cell_type": "markdown",
   "id": "e069c1dc-7da2-475d-9724-ba8fcdf7d060",
   "metadata": {},
   "source": [
    "#### Load data"
   ]
  },
  {
   "cell_type": "code",
   "execution_count": 42,
   "id": "a425d8dc-241f-456a-9e28-49c67dce566d",
   "metadata": {},
   "outputs": [
    {
     "data": {
      "text/plain": [
       "array([10, 11, 12, 13, 14, 15, 16, 17, 18, 19, 20, 21, 22, 23, 24, 25, 26,\n",
       "       27, 28, 29, 30, 31, 32, 34, 35, 36, 38, 39, 40, 41])"
      ]
     },
     "execution_count": 42,
     "metadata": {},
     "output_type": "execute_result"
    }
   ],
   "source": [
    "# Load FFR peaks\n",
    "accuracies = pd.read_csv('accuracies.csv')\n",
    "accuracies = accuracies.rename(columns = {\"sub_num\": \"subject\", \"accuracy\": \"accuracy_score\", \"accuracy_group\": \"accuracy\"})\n",
    "accuracies\n",
    "\n",
    "# Load accuracy scores\n",
    "ffr_peaks = pd.read_csv('ffr_peaks.csv')\n",
    "\n",
    "# Add accuracies into FFR df\n",
    "ffr_peaks = ffr_peaks.merge(accuracies, left_on = [\"subject\"], right_on = [\"subject\"])\n",
    "\n",
    "# Drop subjects with fewer than 80% EEG trials\n",
    "BADS = [2, 3, 4, 5, 6, 7, 8, 9, 33, 37]\n",
    "for bad in BADS:\n",
    "    ffr_peaks = ffr_peaks[ffr_peaks['subject'] != bad]\n",
    "np.unique(ffr_peaks['subject'])"
   ]
  },
  {
   "cell_type": "markdown",
   "id": "d15ce147-7b70-4328-8abc-beef01ff339d",
   "metadata": {},
   "source": [
    "#### ANOVA by target "
   ]
  },
  {
   "cell_type": "code",
   "execution_count": 43,
   "id": "f05c3cef-6d51-4a95-858c-2df822a0a6dc",
   "metadata": {},
   "outputs": [
    {
     "name": "stdout",
     "output_type": "stream",
     "text": [
      "                  Anova\n",
      "==========================================\n",
      "            F Value Num DF  Den DF  Pr > F\n",
      "------------------------------------------\n",
      "tone        12.3764 2.0000  58.0000 0.0000\n",
      "target       1.1146 2.0000  58.0000 0.3350\n",
      "tone:target  0.5214 4.0000 116.0000 0.7202\n",
      "==========================================\n",
      "\n"
     ]
    },
    {
     "data": {
      "image/png": "[encoded data removed]",
      "text/plain": [
       "<Figure size 640x480 with 1 Axes>"
      ]
     },
     "metadata": {},
     "output_type": "display_data"
    }
   ],
   "source": [
    "ffr_target = ffr_peaks.groupby(['subject', 'tone', 'target'], as_index=False)['dB'].mean()\n",
    "sns.barplot(ffr_target, x=\"tone\", y=\"dB\", hue=\"target\")\n",
    "aov = AnovaRM(\n",
    "    data = ffr_target, \n",
    "    depvar = 'dB',\n",
    "    subject = 'subject', \n",
    "    within = ['tone', 'target']\n",
    ")\n",
    "res = aov.fit()\n",
    "print(res)"
   ]
  },
  {
   "cell_type": "markdown",
   "id": "f77fffba-93ca-4e30-b19d-fa86f4c6830d",
   "metadata": {},
   "source": [
    "#### ANOVA by target and predictability"
   ]
  },
  {
   "cell_type": "code",
   "execution_count": 46,
   "id": "e499db45-f100-4787-b691-ea80ca742a70",
   "metadata": {},
   "outputs": [
    {
     "name": "stdout",
     "output_type": "stream",
     "text": [
      "                        Anova\n",
      "======================================================\n",
      "                        F Value Num DF  Den DF  Pr > F\n",
      "------------------------------------------------------\n",
      "tone                    12.3764 2.0000  58.0000 0.0000\n",
      "target                   1.1146 2.0000  58.0000 0.3350\n",
      "predictable              1.0227 1.0000  29.0000 0.3202\n",
      "tone:target              0.5214 4.0000 116.0000 0.7202\n",
      "tone:predictable         0.3924 2.0000  58.0000 0.6772\n",
      "target:predictable       0.6553 2.0000  58.0000 0.5231\n",
      "tone:target:predictable  0.4930 4.0000 116.0000 0.7409\n",
      "======================================================\n",
      "\n",
      "                    Anova\n",
      "==============================================\n",
      "                 F Value Num DF  Den DF Pr > F\n",
      "----------------------------------------------\n",
      "tone             12.3764 2.0000 58.0000 0.0000\n",
      "predictable       1.0227 1.0000 29.0000 0.3202\n",
      "tone:predictable  0.3924 2.0000 58.0000 0.6772\n",
      "==============================================\n",
      "\n"
     ]
    },
    {
     "data": {
      "image/png": "[encoded data removed]",
      "text/plain": [
       "<Figure size 640x480 with 1 Axes>"
      ]
     },
     "metadata": {},
     "output_type": "display_data"
    }
   ],
   "source": [
    "ffr_predictability = ffr_peaks.groupby(['subject', 'tone', 'target', 'predictable'], as_index=False)['dB'].mean()\n",
    "sns.barplot(ffr_predictability, x=\"tone\", y=\"dB\", hue=\"predictable\")\n",
    "aov = AnovaRM(\n",
    "    data = ffr_predictability, \n",
    "    depvar = 'dB',\n",
    "    subject = 'subject', \n",
    "    within = ['tone', 'target', 'predictable']\n",
    ")\n",
    "res = aov.fit()\n",
    "print(res)\n",
    "\n",
    "ffr_predictability = ffr_peaks.groupby(['subject', 'tone', 'predictable'], as_index=False)['dB'].mean()\n",
    "aov = AnovaRM(\n",
    "    data = ffr_predictability, \n",
    "    depvar = 'dB',\n",
    "    subject = 'subject', \n",
    "    within = ['tone', 'predictable']\n",
    ")\n",
    "res = aov.fit()\n",
    "print(res)"
   ]
  },
  {
   "cell_type": "markdown",
   "id": "d3f4557d-c607-4847-8d2d-59fc304faeef",
   "metadata": {},
   "source": [
    "#### ANOVA by accuracy"
   ]
  },
  {
   "cell_type": "code",
   "execution_count": 45,
   "id": "ca3d390f-1394-4c0a-a44f-73102483eaae",
   "metadata": {},
   "outputs": [
    {
     "name": "stdout",
     "output_type": "stream",
     "text": [
      "\n",
      "=============\n",
      "ANOVA SUMMARY\n",
      "=============\n",
      "\n",
      "Source           SS    DF1    DF2      MS       F    p-unc    p-GG-corr    np2      eps    sphericity    W-spher    p-spher\n",
      "-----------  ------  -----  -----  ------  ------  -------  -----------  -----  -------  ------------  ---------  ---------\n",
      "accuracy     57.871      1     28  57.871   2.977    0.095      nan      0.096  nan           nan        nan        nan\n",
      "tone         78.766      2     56  39.383  13.356    0.000        0.000  0.323    0.805         0.000      0.757      0.020\n",
      "Interaction  19.436      2     56   9.718   3.296    0.044      nan      0.105  nan           nan        nan        nan\n",
      "\n"
     ]
    },
    {
     "data": {
      "image/png": "[encoded data removed]",
      "text/plain": [
       "<Figure size 640x480 with 1 Axes>"
      ]
     },
     "metadata": {},
     "output_type": "display_data"
    }
   ],
   "source": [
    "ffr_accuracy = ffr_peaks.groupby(['subject', 'tone', 'accuracy'], as_index=False)['dB'].mean()\n",
    "sns.barplot(ffr_accuracy, x=\"tone\", y=\"dB\", hue=\"accuracy\")\n",
    "aov = ffr_accuracy.mixed_anova(dv='dB', within='tone', between='accuracy', subject='subject')\n",
    "pg.print_table(aov)"
   ]
  }
 ],
 "metadata": {
  "kernelspec": {
   "display_name": "Python 3 (ipykernel)",
   "language": "python",
   "name": "python3"
  },
  "language_info": {
   "codemirror_mode": {
    "name": "ipython",
    "version": 3
   },
   "file_extension": ".py",
   "mimetype": "text/x-python",
   "name": "python",
   "nbconvert_exporter": "python",
   "pygments_lexer": "ipython3",
   "version": "3.11.7"
  }
 },
 "nbformat": 4,
 "nbformat_minor": 5
}
