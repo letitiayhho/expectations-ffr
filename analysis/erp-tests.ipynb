{
 "cells": [
  {
   "cell_type": "code",
   "execution_count": 10,
   "id": "30820536",
   "metadata": {},
   "outputs": [],
   "source": [
    "from matplotlib import pyplot as plt\n",
    "from itertools import product\n",
    "# import seaborn as sns\n",
    "import pandas as pd\n",
    "import os.path as op\n",
    "import argparse\n",
    "import re\n",
    "import numpy as np\n",
    "import matplotlib.pyplot as plt\n",
    "import mne\n",
    "import seaborn as sns\n",
    "from scipy import signal, stats\n",
    "from scipy.fft import fftshift\n",
    "from bids import BIDSLayout\n",
    "from statsmodels.stats.anova import AnovaRM\n",
    "\n",
    "from util.io.ffr import *\n",
    "palette_tab10 = sns.color_palette(\"tab10\", 10)"
   ]
  },
  {
   "cell_type": "code",
   "execution_count": 11,
   "id": "a783409d-eda8-4f9d-a908-9de56c3522b8",
   "metadata": {},
   "outputs": [],
   "source": [
    "# Load accuracies\n",
    "accuracies = pd.read_csv('accuracies.csv')"
   ]
  },
  {
   "cell_type": "code",
   "execution_count": 4,
   "id": "6b40a04c-845a-42e4-9ee1-4275d79a32c6",
   "metadata": {},
   "outputs": [
    {
     "data": {
      "text/html": [
       "<div>\n",
       "<style scoped>\n",
       "    .dataframe tbody tr th:only-of-type {\n",
       "        vertical-align: middle;\n",
       "    }\n",
       "\n",
       "    .dataframe tbody tr th {\n",
       "        vertical-align: top;\n",
       "    }\n",
       "\n",
       "    .dataframe thead th {\n",
       "        text-align: right;\n",
       "    }\n",
       "</style>\n",
       "<table border=\"1\" class=\"dataframe\">\n",
       "  <thead>\n",
       "    <tr style=\"text-align: right;\">\n",
       "      <th></th>\n",
       "      <th>sub</th>\n",
       "      <th>chan</th>\n",
       "      <th>predictable</th>\n",
       "      <th>target</th>\n",
       "      <th>tone</th>\n",
       "      <th>accuracy</th>\n",
       "      <th>msec</th>\n",
       "      <th>uV</th>\n",
       "    </tr>\n",
       "  </thead>\n",
       "  <tbody>\n",
       "    <tr>\n",
       "      <th>0</th>\n",
       "      <td>10</td>\n",
       "      <td>Cz</td>\n",
       "      <td>True</td>\n",
       "      <td>1</td>\n",
       "      <td>1</td>\n",
       "      <td>high</td>\n",
       "      <td>-173</td>\n",
       "      <td>-8.727872e-08</td>\n",
       "    </tr>\n",
       "    <tr>\n",
       "      <th>1</th>\n",
       "      <td>10</td>\n",
       "      <td>Cz</td>\n",
       "      <td>True</td>\n",
       "      <td>1</td>\n",
       "      <td>1</td>\n",
       "      <td>high</td>\n",
       "      <td>-172</td>\n",
       "      <td>-9.012204e-08</td>\n",
       "    </tr>\n",
       "    <tr>\n",
       "      <th>2</th>\n",
       "      <td>10</td>\n",
       "      <td>Cz</td>\n",
       "      <td>True</td>\n",
       "      <td>1</td>\n",
       "      <td>1</td>\n",
       "      <td>high</td>\n",
       "      <td>-171</td>\n",
       "      <td>-1.052924e-07</td>\n",
       "    </tr>\n",
       "    <tr>\n",
       "      <th>3</th>\n",
       "      <td>10</td>\n",
       "      <td>Cz</td>\n",
       "      <td>True</td>\n",
       "      <td>1</td>\n",
       "      <td>1</td>\n",
       "      <td>high</td>\n",
       "      <td>-170</td>\n",
       "      <td>-1.171627e-07</td>\n",
       "    </tr>\n",
       "    <tr>\n",
       "      <th>4</th>\n",
       "      <td>10</td>\n",
       "      <td>Cz</td>\n",
       "      <td>True</td>\n",
       "      <td>1</td>\n",
       "      <td>1</td>\n",
       "      <td>high</td>\n",
       "      <td>-169</td>\n",
       "      <td>-1.369268e-07</td>\n",
       "    </tr>\n",
       "    <tr>\n",
       "      <th>...</th>\n",
       "      <td>...</td>\n",
       "      <td>...</td>\n",
       "      <td>...</td>\n",
       "      <td>...</td>\n",
       "      <td>...</td>\n",
       "      <td>...</td>\n",
       "      <td>...</td>\n",
       "      <td>...</td>\n",
       "    </tr>\n",
       "    <tr>\n",
       "      <th>1984495</th>\n",
       "      <td>41</td>\n",
       "      <td>Pz</td>\n",
       "      <td>False</td>\n",
       "      <td>3</td>\n",
       "      <td>3</td>\n",
       "      <td>high</td>\n",
       "      <td>522</td>\n",
       "      <td>5.592560e-07</td>\n",
       "    </tr>\n",
       "    <tr>\n",
       "      <th>1984496</th>\n",
       "      <td>41</td>\n",
       "      <td>Pz</td>\n",
       "      <td>False</td>\n",
       "      <td>3</td>\n",
       "      <td>3</td>\n",
       "      <td>high</td>\n",
       "      <td>523</td>\n",
       "      <td>5.489198e-07</td>\n",
       "    </tr>\n",
       "    <tr>\n",
       "      <th>1984497</th>\n",
       "      <td>41</td>\n",
       "      <td>Pz</td>\n",
       "      <td>False</td>\n",
       "      <td>3</td>\n",
       "      <td>3</td>\n",
       "      <td>high</td>\n",
       "      <td>524</td>\n",
       "      <td>5.435890e-07</td>\n",
       "    </tr>\n",
       "    <tr>\n",
       "      <th>1984498</th>\n",
       "      <td>41</td>\n",
       "      <td>Pz</td>\n",
       "      <td>False</td>\n",
       "      <td>3</td>\n",
       "      <td>3</td>\n",
       "      <td>high</td>\n",
       "      <td>525</td>\n",
       "      <td>5.367600e-07</td>\n",
       "    </tr>\n",
       "    <tr>\n",
       "      <th>1984499</th>\n",
       "      <td>41</td>\n",
       "      <td>Pz</td>\n",
       "      <td>False</td>\n",
       "      <td>3</td>\n",
       "      <td>3</td>\n",
       "      <td>high</td>\n",
       "      <td>526</td>\n",
       "      <td>5.373039e-07</td>\n",
       "    </tr>\n",
       "  </tbody>\n",
       "</table>\n",
       "<p>1984500 rows × 8 columns</p>\n",
       "</div>"
      ],
      "text/plain": [
       "         sub chan  predictable  target  tone accuracy  msec            uV\n",
       "0         10   Cz         True       1     1     high  -173 -8.727872e-08\n",
       "1         10   Cz         True       1     1     high  -172 -9.012204e-08\n",
       "2         10   Cz         True       1     1     high  -171 -1.052924e-07\n",
       "3         10   Cz         True       1     1     high  -170 -1.171627e-07\n",
       "4         10   Cz         True       1     1     high  -169 -1.369268e-07\n",
       "...      ...  ...          ...     ...   ...      ...   ...           ...\n",
       "1984495   41   Pz        False       3     3     high   522  5.592560e-07\n",
       "1984496   41   Pz        False       3     3     high   523  5.489198e-07\n",
       "1984497   41   Pz        False       3     3     high   524  5.435890e-07\n",
       "1984498   41   Pz        False       3     3     high   525  5.367600e-07\n",
       "1984499   41   Pz        False       3     3     high   526  5.373039e-07\n",
       "\n",
       "[1984500 rows x 8 columns]"
      ]
     },
     "execution_count": 4,
     "metadata": {},
     "output_type": "execute_result"
    }
   ],
   "source": [
    "# Load ERPs\n",
    "evokeds = pd.read_csv('evokeds.csv')\n",
    "evokeds"
   ]
  },
  {
   "cell_type": "code",
   "execution_count": 5,
   "id": "a425d8dc-241f-456a-9e28-49c67dce566d",
   "metadata": {},
   "outputs": [
    {
     "data": {
      "text/html": [
       "<div>\n",
       "<style scoped>\n",
       "    .dataframe tbody tr th:only-of-type {\n",
       "        vertical-align: middle;\n",
       "    }\n",
       "\n",
       "    .dataframe tbody tr th {\n",
       "        vertical-align: top;\n",
       "    }\n",
       "\n",
       "    .dataframe thead th {\n",
       "        text-align: right;\n",
       "    }\n",
       "</style>\n",
       "<table border=\"1\" class=\"dataframe\">\n",
       "  <thead>\n",
       "    <tr style=\"text-align: right;\">\n",
       "      <th></th>\n",
       "      <th>sub</th>\n",
       "      <th>chan</th>\n",
       "      <th>predictable</th>\n",
       "      <th>target</th>\n",
       "      <th>tone</th>\n",
       "      <th>accuracy</th>\n",
       "      <th>msec</th>\n",
       "      <th>uV</th>\n",
       "    </tr>\n",
       "  </thead>\n",
       "  <tbody>\n",
       "    <tr>\n",
       "      <th>0</th>\n",
       "      <td>10</td>\n",
       "      <td>Cz</td>\n",
       "      <td>True</td>\n",
       "      <td>110</td>\n",
       "      <td>110</td>\n",
       "      <td>high</td>\n",
       "      <td>-173</td>\n",
       "      <td>-8.727872e-08</td>\n",
       "    </tr>\n",
       "    <tr>\n",
       "      <th>1</th>\n",
       "      <td>10</td>\n",
       "      <td>Cz</td>\n",
       "      <td>True</td>\n",
       "      <td>110</td>\n",
       "      <td>110</td>\n",
       "      <td>high</td>\n",
       "      <td>-172</td>\n",
       "      <td>-9.012204e-08</td>\n",
       "    </tr>\n",
       "    <tr>\n",
       "      <th>2</th>\n",
       "      <td>10</td>\n",
       "      <td>Cz</td>\n",
       "      <td>True</td>\n",
       "      <td>110</td>\n",
       "      <td>110</td>\n",
       "      <td>high</td>\n",
       "      <td>-171</td>\n",
       "      <td>-1.052924e-07</td>\n",
       "    </tr>\n",
       "    <tr>\n",
       "      <th>3</th>\n",
       "      <td>10</td>\n",
       "      <td>Cz</td>\n",
       "      <td>True</td>\n",
       "      <td>110</td>\n",
       "      <td>110</td>\n",
       "      <td>high</td>\n",
       "      <td>-170</td>\n",
       "      <td>-1.171627e-07</td>\n",
       "    </tr>\n",
       "    <tr>\n",
       "      <th>4</th>\n",
       "      <td>10</td>\n",
       "      <td>Cz</td>\n",
       "      <td>True</td>\n",
       "      <td>110</td>\n",
       "      <td>110</td>\n",
       "      <td>high</td>\n",
       "      <td>-169</td>\n",
       "      <td>-1.369268e-07</td>\n",
       "    </tr>\n",
       "    <tr>\n",
       "      <th>...</th>\n",
       "      <td>...</td>\n",
       "      <td>...</td>\n",
       "      <td>...</td>\n",
       "      <td>...</td>\n",
       "      <td>...</td>\n",
       "      <td>...</td>\n",
       "      <td>...</td>\n",
       "      <td>...</td>\n",
       "    </tr>\n",
       "    <tr>\n",
       "      <th>1984495</th>\n",
       "      <td>41</td>\n",
       "      <td>Pz</td>\n",
       "      <td>False</td>\n",
       "      <td>210</td>\n",
       "      <td>210</td>\n",
       "      <td>high</td>\n",
       "      <td>522</td>\n",
       "      <td>5.592560e-07</td>\n",
       "    </tr>\n",
       "    <tr>\n",
       "      <th>1984496</th>\n",
       "      <td>41</td>\n",
       "      <td>Pz</td>\n",
       "      <td>False</td>\n",
       "      <td>210</td>\n",
       "      <td>210</td>\n",
       "      <td>high</td>\n",
       "      <td>523</td>\n",
       "      <td>5.489198e-07</td>\n",
       "    </tr>\n",
       "    <tr>\n",
       "      <th>1984497</th>\n",
       "      <td>41</td>\n",
       "      <td>Pz</td>\n",
       "      <td>False</td>\n",
       "      <td>210</td>\n",
       "      <td>210</td>\n",
       "      <td>high</td>\n",
       "      <td>524</td>\n",
       "      <td>5.435890e-07</td>\n",
       "    </tr>\n",
       "    <tr>\n",
       "      <th>1984498</th>\n",
       "      <td>41</td>\n",
       "      <td>Pz</td>\n",
       "      <td>False</td>\n",
       "      <td>210</td>\n",
       "      <td>210</td>\n",
       "      <td>high</td>\n",
       "      <td>525</td>\n",
       "      <td>5.367600e-07</td>\n",
       "    </tr>\n",
       "    <tr>\n",
       "      <th>1984499</th>\n",
       "      <td>41</td>\n",
       "      <td>Pz</td>\n",
       "      <td>False</td>\n",
       "      <td>210</td>\n",
       "      <td>210</td>\n",
       "      <td>high</td>\n",
       "      <td>526</td>\n",
       "      <td>5.373039e-07</td>\n",
       "    </tr>\n",
       "  </tbody>\n",
       "</table>\n",
       "<p>1984500 rows × 8 columns</p>\n",
       "</div>"
      ],
      "text/plain": [
       "         sub chan  predictable  target  tone accuracy  msec            uV\n",
       "0         10   Cz         True     110   110     high  -173 -8.727872e-08\n",
       "1         10   Cz         True     110   110     high  -172 -9.012204e-08\n",
       "2         10   Cz         True     110   110     high  -171 -1.052924e-07\n",
       "3         10   Cz         True     110   110     high  -170 -1.171627e-07\n",
       "4         10   Cz         True     110   110     high  -169 -1.369268e-07\n",
       "...      ...  ...          ...     ...   ...      ...   ...           ...\n",
       "1984495   41   Pz        False     210   210     high   522  5.592560e-07\n",
       "1984496   41   Pz        False     210   210     high   523  5.489198e-07\n",
       "1984497   41   Pz        False     210   210     high   524  5.435890e-07\n",
       "1984498   41   Pz        False     210   210     high   525  5.367600e-07\n",
       "1984499   41   Pz        False     210   210     high   526  5.373039e-07\n",
       "\n",
       "[1984500 rows x 8 columns]"
      ]
     },
     "execution_count": 5,
     "metadata": {},
     "output_type": "execute_result"
    }
   ],
   "source": [
    "# Rename target and tone vars to freq\n",
    "mapping = {1: 110,\n",
    "           2: 150,\n",
    "           3: 210}\n",
    "\n",
    "evokeds['target'] = evokeds['target'].replace(mapping)\n",
    "evokeds['tone'] = evokeds['tone'].replace(mapping)\n",
    "evokeds"
   ]
  },
  {
   "cell_type": "code",
   "execution_count": 6,
   "id": "e24f7c0d-46e9-4c47-aa10-1f4ec25df429",
   "metadata": {},
   "outputs": [
    {
     "data": {
      "text/html": [
       "<div>\n",
       "<style scoped>\n",
       "    .dataframe tbody tr th:only-of-type {\n",
       "        vertical-align: middle;\n",
       "    }\n",
       "\n",
       "    .dataframe tbody tr th {\n",
       "        vertical-align: top;\n",
       "    }\n",
       "\n",
       "    .dataframe thead th {\n",
       "        text-align: right;\n",
       "    }\n",
       "</style>\n",
       "<table border=\"1\" class=\"dataframe\">\n",
       "  <thead>\n",
       "    <tr style=\"text-align: right;\">\n",
       "      <th></th>\n",
       "      <th>sub</th>\n",
       "      <th>chan</th>\n",
       "      <th>predictable</th>\n",
       "      <th>target</th>\n",
       "      <th>tone</th>\n",
       "      <th>accuracy</th>\n",
       "      <th>msec</th>\n",
       "      <th>uV</th>\n",
       "    </tr>\n",
       "  </thead>\n",
       "  <tbody>\n",
       "    <tr>\n",
       "      <th>0</th>\n",
       "      <td>10</td>\n",
       "      <td>Cz</td>\n",
       "      <td>True</td>\n",
       "      <td>110</td>\n",
       "      <td>110</td>\n",
       "      <td>high</td>\n",
       "      <td>-173</td>\n",
       "      <td>-0.387279</td>\n",
       "    </tr>\n",
       "    <tr>\n",
       "      <th>1</th>\n",
       "      <td>10</td>\n",
       "      <td>Cz</td>\n",
       "      <td>True</td>\n",
       "      <td>110</td>\n",
       "      <td>110</td>\n",
       "      <td>high</td>\n",
       "      <td>-172</td>\n",
       "      <td>-0.390122</td>\n",
       "    </tr>\n",
       "    <tr>\n",
       "      <th>2</th>\n",
       "      <td>10</td>\n",
       "      <td>Cz</td>\n",
       "      <td>True</td>\n",
       "      <td>110</td>\n",
       "      <td>110</td>\n",
       "      <td>high</td>\n",
       "      <td>-171</td>\n",
       "      <td>-0.405292</td>\n",
       "    </tr>\n",
       "    <tr>\n",
       "      <th>3</th>\n",
       "      <td>10</td>\n",
       "      <td>Cz</td>\n",
       "      <td>True</td>\n",
       "      <td>110</td>\n",
       "      <td>110</td>\n",
       "      <td>high</td>\n",
       "      <td>-170</td>\n",
       "      <td>-0.417163</td>\n",
       "    </tr>\n",
       "    <tr>\n",
       "      <th>4</th>\n",
       "      <td>10</td>\n",
       "      <td>Cz</td>\n",
       "      <td>True</td>\n",
       "      <td>110</td>\n",
       "      <td>110</td>\n",
       "      <td>high</td>\n",
       "      <td>-169</td>\n",
       "      <td>-0.436927</td>\n",
       "    </tr>\n",
       "    <tr>\n",
       "      <th>...</th>\n",
       "      <td>...</td>\n",
       "      <td>...</td>\n",
       "      <td>...</td>\n",
       "      <td>...</td>\n",
       "      <td>...</td>\n",
       "      <td>...</td>\n",
       "      <td>...</td>\n",
       "      <td>...</td>\n",
       "    </tr>\n",
       "    <tr>\n",
       "      <th>1984495</th>\n",
       "      <td>41</td>\n",
       "      <td>Pz</td>\n",
       "      <td>False</td>\n",
       "      <td>210</td>\n",
       "      <td>210</td>\n",
       "      <td>high</td>\n",
       "      <td>522</td>\n",
       "      <td>0.259256</td>\n",
       "    </tr>\n",
       "    <tr>\n",
       "      <th>1984496</th>\n",
       "      <td>41</td>\n",
       "      <td>Pz</td>\n",
       "      <td>False</td>\n",
       "      <td>210</td>\n",
       "      <td>210</td>\n",
       "      <td>high</td>\n",
       "      <td>523</td>\n",
       "      <td>0.248920</td>\n",
       "    </tr>\n",
       "    <tr>\n",
       "      <th>1984497</th>\n",
       "      <td>41</td>\n",
       "      <td>Pz</td>\n",
       "      <td>False</td>\n",
       "      <td>210</td>\n",
       "      <td>210</td>\n",
       "      <td>high</td>\n",
       "      <td>524</td>\n",
       "      <td>0.243589</td>\n",
       "    </tr>\n",
       "    <tr>\n",
       "      <th>1984498</th>\n",
       "      <td>41</td>\n",
       "      <td>Pz</td>\n",
       "      <td>False</td>\n",
       "      <td>210</td>\n",
       "      <td>210</td>\n",
       "      <td>high</td>\n",
       "      <td>525</td>\n",
       "      <td>0.236760</td>\n",
       "    </tr>\n",
       "    <tr>\n",
       "      <th>1984499</th>\n",
       "      <td>41</td>\n",
       "      <td>Pz</td>\n",
       "      <td>False</td>\n",
       "      <td>210</td>\n",
       "      <td>210</td>\n",
       "      <td>high</td>\n",
       "      <td>526</td>\n",
       "      <td>0.237304</td>\n",
       "    </tr>\n",
       "  </tbody>\n",
       "</table>\n",
       "<p>1984500 rows × 8 columns</p>\n",
       "</div>"
      ],
      "text/plain": [
       "         sub chan  predictable  target  tone accuracy  msec        uV\n",
       "0         10   Cz         True     110   110     high  -173 -0.387279\n",
       "1         10   Cz         True     110   110     high  -172 -0.390122\n",
       "2         10   Cz         True     110   110     high  -171 -0.405292\n",
       "3         10   Cz         True     110   110     high  -170 -0.417163\n",
       "4         10   Cz         True     110   110     high  -169 -0.436927\n",
       "...      ...  ...          ...     ...   ...      ...   ...       ...\n",
       "1984495   41   Pz        False     210   210     high   522  0.259256\n",
       "1984496   41   Pz        False     210   210     high   523  0.248920\n",
       "1984497   41   Pz        False     210   210     high   524  0.243589\n",
       "1984498   41   Pz        False     210   210     high   525  0.236760\n",
       "1984499   41   Pz        False     210   210     high   526  0.237304\n",
       "\n",
       "[1984500 rows x 8 columns]"
      ]
     },
     "execution_count": 6,
     "metadata": {},
     "output_type": "execute_result"
    }
   ],
   "source": [
    "# Adjust EEG units\n",
    "evokeds['uV'] = evokeds['uV'] * 1000000 - 0.30\n",
    "evokeds"
   ]
  },
  {
   "cell_type": "code",
   "execution_count": 7,
   "id": "70f81b25-0620-4f57-8e0d-84c11bb28f10",
   "metadata": {},
   "outputs": [],
   "source": [
    "# Adjust EEG timing according to lag\n",
    "evokeds['msec'] = evokeds['msec'] - 27"
   ]
  },
  {
   "cell_type": "code",
   "execution_count": 8,
   "id": "e7d86573-00b8-44ed-b2c5-11071a9adf79",
   "metadata": {},
   "outputs": [
    {
     "data": {
      "text/plain": [
       "array([10, 11, 12, 13, 14, 15, 16, 17, 18, 19, 20, 21, 22, 23, 24, 25, 26,\n",
       "       27, 28, 29, 30, 31, 32, 34, 35, 36, 38, 39, 40, 41])"
      ]
     },
     "execution_count": 8,
     "metadata": {},
     "output_type": "execute_result"
    }
   ],
   "source": [
    "# Drop subjects with fewer than 80% trials\n",
    "BADS = [33, 37]\n",
    "for bad in BADS:\n",
    "    evokeds = evokeds[evokeds['sub'] != bad]\n",
    "np.unique(evokeds['sub'])"
   ]
  },
  {
   "cell_type": "code",
   "execution_count": 10,
   "id": "88cce337-f07c-4869-bf25-89cb3caac60d",
   "metadata": {},
   "outputs": [
    {
     "name": "stderr",
     "output_type": "stream",
     "text": [
      "/scratch/local/jobs/22071381/ipykernel_1286593/339091136.py:6: SettingWithCopyWarning: \n",
      "A value is trying to be set on a copy of a slice from a DataFrame.\n",
      "Try using .loc[row_indexer,col_indexer] = value instead\n",
      "\n",
      "See the caveats in the documentation: https://pandas.pydata.org/pandas-docs/stable/user_guide/indexing.html#returning-a-view-versus-a-copy\n",
      "  evokeds_tone_1['target freq (Hz)'] = evokeds_tone_1.target\n",
      "/scratch/local/jobs/22071381/ipykernel_1286593/339091136.py:7: SettingWithCopyWarning: \n",
      "A value is trying to be set on a copy of a slice from a DataFrame.\n",
      "Try using .loc[row_indexer,col_indexer] = value instead\n",
      "\n",
      "See the caveats in the documentation: https://pandas.pydata.org/pandas-docs/stable/user_guide/indexing.html#returning-a-view-versus-a-copy\n",
      "  evokeds_tone_2['target freq (Hz)'] = evokeds_tone_2.target\n",
      "/scratch/local/jobs/22071381/ipykernel_1286593/339091136.py:8: SettingWithCopyWarning: \n",
      "A value is trying to be set on a copy of a slice from a DataFrame.\n",
      "Try using .loc[row_indexer,col_indexer] = value instead\n",
      "\n",
      "See the caveats in the documentation: https://pandas.pydata.org/pandas-docs/stable/user_guide/indexing.html#returning-a-view-versus-a-copy\n",
      "  evokeds_tone_3['target freq (Hz)'] = evokeds_tone_3.target\n"
     ]
    }
   ],
   "source": [
    "# Split data up for analyses\n",
    "evokeds_Cz = evokeds[evokeds.chan == 'Cz']\n",
    "evokeds_tone_1 = evokeds_Cz[evokeds_Cz.tone == 110]\n",
    "evokeds_tone_2 = evokeds_Cz[evokeds_Cz.tone == 150]\n",
    "evokeds_tone_3 = evokeds_Cz[evokeds_Cz.tone == 210]"
   ]
  },
  {
   "cell_type": "markdown",
   "id": "ad62f5f7-313e-4384-9830-ef5973f21bb5",
   "metadata": {},
   "source": [
    "# Tests on mean amplitudes"
   ]
  },
  {
   "cell_type": "code",
   "execution_count": 48,
   "id": "25afa6dd-dc83-4750-83cd-677ea9b860a6",
   "metadata": {},
   "outputs": [
    {
     "name": "stdout",
     "output_type": "stream",
     "text": [
      "                  Anova\n",
      "==========================================\n",
      "            F Value Num DF  Den DF  Pr > F\n",
      "------------------------------------------\n",
      "tone        10.4718 2.0000  58.0000 0.0001\n",
      "target       0.4113 2.0000  58.0000 0.6647\n",
      "tone:target  5.3400 4.0000 116.0000 0.0006\n",
      "==========================================\n",
      "\n"
     ]
    },
    {
     "data": {
      "image/png": "[encoded data removed]",
      "text/plain": [
       "<Figure size 640x480 with 1 Axes>"
      ]
     },
     "metadata": {},
     "output_type": "display_data"
    }
   ],
   "source": [
    "seg_target = evokeds_Cz[evokeds_Cz.msec > 220]\n",
    "seg_target = seg_target[seg_target.msec < 420]\n",
    "seg_target = seg_target.groupby(['sub', 'tone', 'target'], as_index=False)['uV'].mean()\n",
    "sns.barplot(seg_target, x=\"tone\", y=\"uV\", hue=\"target\", legend=False)\n",
    "aov = AnovaRM(\n",
    "    data = seg_target, \n",
    "    depvar = 'uV',\n",
    "    subject = 'sub', \n",
    "    within = ['tone', 'target']\n",
    ")\n",
    "res = aov.fit()\n",
    "print(res)"
   ]
  },
  {
   "cell_type": "markdown",
   "id": "e678174b-514a-4763-8053-ea7fc79fe34f",
   "metadata": {},
   "source": [
    "### Tests on peaks"
   ]
  },
  {
   "cell_type": "markdown",
   "id": "e03cd5aa-e5a5-47b7-80aa-0884924c095b",
   "metadata": {},
   "source": [
    "#### P1 (max at 50-100 msec)"
   ]
  },
  {
   "cell_type": "code",
   "execution_count": 18,
   "id": "c0102b3c-4dfc-43f0-bdf8-75c8722c3a2e",
   "metadata": {},
   "outputs": [
    {
     "data": {
      "text/plain": [
       "<Axes: xlabel='tone', ylabel='uV'>"
      ]
     },
     "execution_count": 18,
     "metadata": {},
     "output_type": "execute_result"
    },
    {
     "data": {
      "image/png": "[encoded data removed]",
      "text/plain": [
       "<Figure size 640x480 with 1 Axes>"
      ]
     },
     "metadata": {},
     "output_type": "display_data"
    }
   ],
   "source": [
    "seg_tone = evokeds_Cz[(evokeds_Cz.msec > 50) & (evokeds_Cz.msec < 100)]\n",
    "seg_tone = seg_tone.groupby(['sub', 'tone'], as_index=False)['uV'].max()\n",
    "sns.barplot(seg_tone, x=\"tone\", y=\"uV\")"
   ]
  },
  {
   "cell_type": "code",
   "execution_count": 28,
   "id": "4d86c77c-594d-4083-98e9-a250f1e1f93c",
   "metadata": {},
   "outputs": [
    {
     "data": {
      "text/plain": [
       "<Axes: xlabel='tone', ylabel='uV'>"
      ]
     },
     "execution_count": 28,
     "metadata": {},
     "output_type": "execute_result"
    },
    {
     "data": {
      "image/png": "[encoded data removed]",
      "text/plain": [
       "<Figure size 640x480 with 1 Axes>"
      ]
     },
     "metadata": {},
     "output_type": "display_data"
    }
   ],
   "source": [
    "seg_tone = evokeds_Cz[(evokeds_Cz.msec > 50) & (evokeds_Cz.msec < 100)]\n",
    "seg_tone = seg_tone.groupby(['sub', 'tone', 'target'], as_index=False)['uV'].max()\n",
    "sns.barplot(seg_tone, x=\"tone\", y=\"uV\", hue=\"target\", legend=False)"
   ]
  },
  {
   "cell_type": "code",
   "execution_count": 27,
   "id": "71f6a1fe-ab62-45a4-bf7a-ca6d6f7af1e3",
   "metadata": {},
   "outputs": [
    {
     "name": "stdout",
     "output_type": "stream",
     "text": [
      "                  Anova\n",
      "==========================================\n",
      "            F Value Num DF  Den DF  Pr > F\n",
      "------------------------------------------\n",
      "tone         0.1375 2.0000  58.0000 0.8718\n",
      "target       2.0861 2.0000  58.0000 0.1334\n",
      "tone:target  1.6290 4.0000 116.0000 0.1716\n",
      "==========================================\n",
      "\n"
     ]
    }
   ],
   "source": [
    "aov = AnovaRM(\n",
    "    data = seg_tone, \n",
    "    depvar = 'uV',\n",
    "    subject = 'sub', \n",
    "    within = ['tone', 'target']\n",
    ")\n",
    "res = aov.fit()\n",
    "print(res)"
   ]
  },
  {
   "cell_type": "markdown",
   "id": "ff576f7d-96de-4a2c-8036-486b127379d0",
   "metadata": {},
   "source": [
    "#### Min at 70-150 msec"
   ]
  },
  {
   "cell_type": "code",
   "execution_count": 29,
   "id": "b953d024-6814-4bb4-96dd-275e98a7aaa8",
   "metadata": {},
   "outputs": [
    {
     "data": {
      "text/plain": [
       "<Axes: xlabel='tone', ylabel='uV'>"
      ]
     },
     "execution_count": 29,
     "metadata": {},
     "output_type": "execute_result"
    },
    {
     "data": {
      "image/png": "[encoded data removed]",
      "text/plain": [
       "<Figure size 640x480 with 1 Axes>"
      ]
     },
     "metadata": {},
     "output_type": "display_data"
    }
   ],
   "source": [
    "seg_tone = evokeds_Cz[(evokeds_Cz.msec > 70) & (evokeds_Cz.msec < 150)]\n",
    "seg_tone = seg_tone.groupby(['sub', 'tone'], as_index=False)['uV'].min()\n",
    "sns.barplot(seg_tone, x=\"tone\", y=\"uV\")"
   ]
  },
  {
   "cell_type": "code",
   "execution_count": 31,
   "id": "bd7264ff-69f8-4cd0-a83f-a3ec4cfa7975",
   "metadata": {},
   "outputs": [
    {
     "data": {
      "text/plain": [
       "<Axes: xlabel='tone', ylabel='uV'>"
      ]
     },
     "execution_count": 31,
     "metadata": {},
     "output_type": "execute_result"
    },
    {
     "data": {
      "image/png": "[encoded data removed]",
      "text/plain": [
       "<Figure size 640x480 with 1 Axes>"
      ]
     },
     "metadata": {},
     "output_type": "display_data"
    }
   ],
   "source": [
    "seg_tone = evokeds_Cz[(evokeds_Cz.msec > 70) & (evokeds_Cz.msec < 150)]\n",
    "seg_tone = seg_tone.groupby(['sub', 'tone', 'target'], as_index=False)['uV'].min()\n",
    "sns.barplot(seg_tone, x=\"tone\", y=\"uV\", hue=\"target\", legend=False)"
   ]
  },
  {
   "cell_type": "markdown",
   "id": "94936908-5620-4724-bc51-5e4352bec40d",
   "metadata": {},
   "source": [
    "#### Max at 120-250 msec"
   ]
  },
  {
   "cell_type": "code",
   "execution_count": null,
   "id": "dc670e9f-f628-47cb-aae0-eb0966df0980",
   "metadata": {},
   "outputs": [],
   "source": [
    "seg_tone = evokeds_Cz[evokeds_Cz.msec > 120]\n",
    "seg_tone = seg_tone[seg_tone.msec < 250]\n",
    "seg_tone = seg_tone.groupby(['sub', 'tone'], as_index=False)['uV'].max()\n",
    "seg_tone\n",
    "sns.barplot(seg_tone, x=\"tone\", y=\"uV\")"
   ]
  },
  {
   "cell_type": "code",
   "execution_count": null,
   "id": "71e967a2-4d3b-40e1-a163-45ceec68f8b9",
   "metadata": {},
   "outputs": [],
   "source": [
    "seg_target = evokeds_Cz[evokeds_Cz.msec > 120]\n",
    "seg_target = seg_target[seg_target.msec < 250]\n",
    "seg_target = seg_target.groupby(['sub', 'tone', 'target'], as_index=False)['uV'].max()\n",
    "seg_target\n",
    "sns.barplot(seg_target, x=\"tone\", y=\"uV\", hue=\"target\", legend=False)"
   ]
  },
  {
   "cell_type": "markdown",
   "id": "3b97b9f2-f6d3-4768-90c1-30ee1bb6cd6e",
   "metadata": {},
   "source": [
    "#### Min at 220-420 msec"
   ]
  },
  {
   "cell_type": "code",
   "execution_count": null,
   "id": "49b2674e-dbdf-4fc6-98ad-2c3380b843dd",
   "metadata": {},
   "outputs": [],
   "source": [
    "seg_tone = evokeds_Cz[evokeds_Cz.msec > 220]\n",
    "seg_tone = seg_tone[seg_tone.msec < 420]\n",
    "seg_tone = seg_tone.groupby(['sub', 'tone'], as_index=False)['uV'].min()\n",
    "seg_tone\n",
    "sns.barplot(seg_tone, x=\"tone\", y=\"uV\")"
   ]
  },
  {
   "cell_type": "code",
   "execution_count": null,
   "id": "37b3ad03-ae60-4d7e-90c0-8303a38b64a8",
   "metadata": {},
   "outputs": [],
   "source": [
    "seg_target = evokeds_Cz[evokeds_Cz.msec > 220]\n",
    "seg_target = seg_target[seg_target.msec < 420]\n",
    "seg_target = seg_target.groupby(['sub', 'tone', 'target'], as_index=False)['uV'].min()\n",
    "seg_target\n",
    "sns.barplot(seg_target, x=\"tone\", y=\"uV\", hue=\"target\", legend=False)"
   ]
  },
  {
   "cell_type": "code",
   "execution_count": null,
   "id": "37e6b788-e07f-4ba3-96ac-e06245271b7a",
   "metadata": {},
   "outputs": [],
   "source": [
    "aov = AnovaRM(\n",
    "    data = seg_target[seg_target.tone == 150], \n",
    "    depvar = 'uV',\n",
    "    subject = 'sub', \n",
    "    within = ['target']\n",
    ")\n",
    "res = aov.fit()\n",
    "print(res)"
   ]
  },
  {
   "cell_type": "markdown",
   "id": "7a1a510b-ea2f-44e8-b0f4-af4e4c9795c5",
   "metadata": {},
   "source": [
    "#### Inflection point at 400 msec (Important)"
   ]
  },
  {
   "cell_type": "code",
   "execution_count": null,
   "id": "0181cdc0-d31e-4ddb-9082-86e31645896f",
   "metadata": {},
   "outputs": [],
   "source": [
    "seg_tone = evokeds_Cz[evokeds_Cz.msec == 400]\n",
    "seg_tone = seg_tone.groupby(['sub', 'tone'], as_index=False)['uV'].mean()\n",
    "seg_tone\n",
    "sns.barplot(seg_tone, x=\"tone\", y=\"uV\")\n",
    "plt.tight_layout()\n",
    "plt.savefig('../figs/ERP-inflection-by-tone.png')"
   ]
  },
  {
   "cell_type": "code",
   "execution_count": 34,
   "id": "6b737351-1b4a-41dc-bda8-d71cc825bf6b",
   "metadata": {},
   "outputs": [
    {
     "data": {
      "image/png": "[encoded data removed]",
      "text/plain": [
       "<Figure size 640x480 with 1 Axes>"
      ]
     },
     "metadata": {},
     "output_type": "display_data"
    }
   ],
   "source": [
    "seg_target = evokeds_Cz[evokeds_Cz.msec == 400]\n",
    "seg_target = seg_target.groupby(['sub', 'tone', 'target'], as_index=False)['uV'].mean()\n",
    "seg_target\n",
    "sns.barplot(seg_target, x=\"tone\", y=\"uV\", hue=\"target\")\n",
    "plt.tight_layout()\n",
    "plt.savefig('../figs/ERP-inflection-by-target.png')"
   ]
  },
  {
   "cell_type": "markdown",
   "id": "bfc49b58-4645-42db-98f6-527ae79ffe8a",
   "metadata": {},
   "source": [
    "#### Tests on the inflection point"
   ]
  },
  {
   "cell_type": "code",
   "execution_count": null,
   "id": "49082566-de05-4d78-9b93-83a9342062b2",
   "metadata": {},
   "outputs": [],
   "source": [
    "# 3x3\n",
    "aov = AnovaRM(\n",
    "    data = seg_target, \n",
    "    depvar = 'uV',\n",
    "    subject = 'sub', \n",
    "    within = ['tone', 'target']\n",
    ")\n",
    "res = aov.fit()\n",
    "print(res)\n",
    "\n",
    "# for tone 1\n",
    "aov = AnovaRM(\n",
    "    data = seg_target[seg_target.tone == 110], \n",
    "    depvar = 'uV',\n",
    "    subject = 'sub', \n",
    "    within = ['target']\n",
    ")\n",
    "res = aov.fit()\n",
    "print(res)\n",
    "\n",
    "# for tone 2\n",
    "aov = AnovaRM(\n",
    "    data = seg_target[seg_target.tone == 150], \n",
    "    depvar = 'uV',\n",
    "    subject = 'sub', \n",
    "    within = ['target']\n",
    ")\n",
    "res = aov.fit()\n",
    "print(res)\n",
    "\n",
    "# for tone 3\n",
    "aov = AnovaRM(\n",
    "    data = seg_target[seg_target.tone == 210], \n",
    "    depvar = 'uV',\n",
    "    subject = 'sub', \n",
    "    within = ['target']\n",
    ")\n",
    "res = aov.fit()\n",
    "print(res)"
   ]
  },
  {
   "cell_type": "markdown",
   "id": "ea355d88-2333-4c3f-9cdb-9434d41fec58",
   "metadata": {},
   "source": [
    "##### Factor in accuracies"
   ]
  },
  {
   "cell_type": "code",
   "execution_count": null,
   "id": "3d94c8cc-ccc1-4623-acf4-ed12a6a8f087",
   "metadata": {},
   "outputs": [],
   "source": [
    "t = 382\n",
    "\n",
    "# Plot\n",
    "mean_evokeds = evokeds_cz[evokeds_cz.target == 110]\n",
    "seg_target = mean_evokeds[mean_evokeds.msec == t]\n",
    "seg_target = seg_target.groupby(['sub', 'tone', 'accuracy'], as_index=False)['uV'].mean()\n",
    "sns.barplot(seg_target, x=\"tone\", y=\"uV\", hue=\"accuracy\")\n",
    "\n",
    "# Test\n",
    "seg_target = evokeds_cz[(evokeds_cz.target == 110) & (evokeds_cz.tone == 110) & (evokeds_cz.msec == t)]\n",
    "seg_target = seg_target.groupby(['sub', 'accuracy'], as_index=False)['uV'].mean()\n",
    "print(seg_target.uV[seg_target.accuracy == 'low'].mean())\n",
    "print(seg_target.uV[seg_target.accuracy == 'high'].mean())\n",
    "stats.ttest_ind(seg_target.uV[seg_target.accuracy == 'low'], seg_target.uV[seg_target.accuracy == 'high'])\n"
   ]
  },
  {
   "cell_type": "code",
   "execution_count": null,
   "id": "486a2cee-4101-4bf7-9d58-4f6b17bca6e0",
   "metadata": {},
   "outputs": [],
   "source": [
    "t = 405\n",
    "\n",
    "# Plot\n",
    "mean_evokeds = evokeds_cz[evokeds_cz.target == 150]\n",
    "seg_target = mean_evokeds[mean_evokeds.msec == t]\n",
    "seg_target = seg_target.groupby(['sub', 'tone', 'accuracy'], as_index=False)['uV'].mean()\n",
    "seg_target\n",
    "sns.barplot(seg_target, x=\"tone\", y=\"uV\", hue=\"accuracy\")\n",
    "\n",
    "# Test\n",
    "seg_target = evokeds_cz[(evokeds_cz.target == 150) & (evokeds_cz.tone == 150) & (evokeds_cz.msec == t)]\n",
    "seg_target = seg_target.groupby(['sub', 'accuracy'], as_index=False)['uV'].mean()\n",
    "print(seg_target.uV[seg_target.accuracy == 'low'].mean())\n",
    "print(seg_target.uV[seg_target.accuracy == 'high'].mean())\n",
    "stats.ttest_ind(seg_target.uV[seg_target.accuracy == 'low'], seg_target.uV[seg_target.accuracy == 'high'], alternative = 'less')"
   ]
  },
  {
   "cell_type": "code",
   "execution_count": null,
   "id": "fdce760c-e980-40d3-827d-fc2d45980c04",
   "metadata": {},
   "outputs": [],
   "source": [
    "t = 364\n",
    "\n",
    "# Plot\n",
    "mean_evokeds = evokeds_cz[evokeds_cz.target == 210]\n",
    "seg_target = mean_evokeds[mean_evokeds.msec == t]\n",
    "seg_target = seg_target.groupby(['sub', 'tone', 'accuracy'], as_index=False)['uV'].mean()\n",
    "seg_target\n",
    "sns.barplot(seg_target, x=\"tone\", y=\"uV\", hue=\"accuracy\")\n",
    "\n",
    "# Test\n",
    "seg_target = evokeds_cz[(evokeds_cz.target == 210) & (evokeds_cz.tone == 210) & (evokeds_cz.msec == t)]\n",
    "seg_target = seg_target.groupby(['sub', 'accuracy'], as_index=False)['uV'].mean()\n",
    "print(seg_target.uV[seg_target.accuracy == 'low'].mean())\n",
    "print(seg_target.uV[seg_target.accuracy == 'high'].mean())\n",
    "stats.ttest_ind(seg_target.uV[seg_target.accuracy == 'low'], seg_target.uV[seg_target.accuracy == 'high'], alternative = 'less')"
   ]
  },
  {
   "cell_type": "markdown",
   "id": "424f4fb3-2257-4b15-aaee-496ee3f43111",
   "metadata": {},
   "source": [
    "# Latencies"
   ]
  },
  {
   "cell_type": "code",
   "execution_count": null,
   "id": "ac858752-7cd0-4fea-ac93-baa4488ebff3",
   "metadata": {},
   "outputs": [],
   "source": [
    "mean_evokeds = evokeds[evokeds.chan == 'Cz']\n",
    "mean_evokeds_tone = mean_evokeds.groupby(['chan', 'tone', 'msec'], as_index=False)['uV'].mean()\n",
    "mean_evokeds_target = mean_evokeds.groupby(['chan', 'target', 'tone', 'msec'], as_index=False)['uV'].mean()\n",
    "mean_evokeds_target"
   ]
  },
  {
   "cell_type": "markdown",
   "id": "88e42a71-0c37-4593-a5d7-4d5a65250097",
   "metadata": {},
   "source": [
    "#### Min at 100-180 msec"
   ]
  },
  {
   "cell_type": "code",
   "execution_count": null,
   "id": "7cce23fa-0eca-4875-aedd-baf64747eda4",
   "metadata": {},
   "outputs": [],
   "source": [
    "seg_tone = mean_evokeds_tone[mean_evokeds_tone.msec > 100]\n",
    "seg_tone = seg_tone[seg_tone.msec < 180]\n",
    "\n",
    "# # Tone 1\n",
    "tmp = seg_tone[(seg_tone.tone == 110)]\n",
    "lat = int(tmp.msec[tmp.uV == min(tmp.uV)])\n",
    "print(f'Latency of min tone 1: {lat}')\n",
    "# # Tone 2\n",
    "tmp = seg_tone[(seg_tone.tone == 150)]\n",
    "lat = int(tmp.msec[tmp.uV == min(tmp.uV)])\n",
    "print(f'Latency of min tone 2: {lat}')\n",
    "# # Tone 3\n",
    "tmp = seg_tone[(seg_tone.tone == 210)]\n",
    "lat = int(tmp.msec[tmp.uV == min(tmp.uV)])\n",
    "print(f'Latency of min tone 3: {lat}')\n",
    "\n",
    "seg_target = mean_evokeds_target[mean_evokeds_target.msec > 100]\n",
    "seg_target = seg_target[seg_target.msec < 180]\n",
    "\n",
    "# Tone 1 when tone 1 is target\n",
    "tmp = seg_target[(seg_target.tone == 110) & (seg_target.target == 110)]\n",
    "lat = int(tmp.msec[tmp.uV == min(tmp.uV)])\n",
    "print(f'Latency of min tone 1, target 1: {lat}')\n",
    "# Tone 1 when tone 2 is target\n",
    "tmp = seg_target[(seg_target.tone == 110) & (seg_target.target == 150)]\n",
    "lat = int(tmp.msec[tmp.uV == min(tmp.uV)])\n",
    "print(f'Latency of min tone 1, target 2: {lat}')\n",
    "# Tone 1 when tone 3 is target\n",
    "tmp = seg_target[(seg_target.tone == 110) & (seg_target.target == 210)]\n",
    "lat = int(tmp.msec[tmp.uV == min(tmp.uV)])\n",
    "print(f'Latency of min tone 1, target 3: {lat}')\n",
    "\n",
    "# Tone 2 when tone 1 is target\n",
    "tmp = seg_target[(seg_target.tone == 150) & (seg_target.target == 110)]\n",
    "lat = int(tmp.msec[tmp.uV == min(tmp.uV)])\n",
    "print(f'Latency of min tone 2, target 1: {lat}')\n",
    "# Tone 2 when tone 2 is target\n",
    "tmp = seg_target[(seg_target.tone == 150) & (seg_target.target == 150)]\n",
    "lat = int(tmp.msec[tmp.uV == min(tmp.uV)])\n",
    "print(f'Latency of min tone 2, target 2: {lat}')\n",
    "# Tone 2 when tone 3 is target\n",
    "tmp = seg_target[(seg_target.tone == 150) & (seg_target.target == 210)]\n",
    "lat = int(tmp.msec[tmp.uV == min(tmp.uV)])\n",
    "print(f'Latency of min tone 2, target 3: {lat}')\n",
    "\n",
    "# Tone 3 when tone 1 is target\n",
    "tmp = seg_target[(seg_target.tone == 210) & (seg_target.target == 110)]\n",
    "lat = int(tmp.msec[tmp.uV == min(tmp.uV)])\n",
    "print(f'Latency of min tone 3, target 1: {lat}')\n",
    "# Tone 3 when tone 2 is target\n",
    "tmp = seg_target[(seg_target.tone == 210) & (seg_target.target == 150)]\n",
    "lat = int(tmp.msec[tmp.uV == min(tmp.uV)])\n",
    "print(f'Latency of min tone 3, target 2: {lat}')\n",
    "# Tone 3 when tone 3 is target\n",
    "tmp = seg_target[(seg_target.tone == 210) & (seg_target.target == 210)]\n",
    "lat = int(tmp.msec[tmp.uV == min(tmp.uV)])\n",
    "print(f'Latency of min tone 3, target 3: {lat}')"
   ]
  },
  {
   "cell_type": "markdown",
   "id": "f4935ac9-1016-45f8-9188-7f99c56de73f",
   "metadata": {},
   "source": [
    "#### Max at 150-280 msec"
   ]
  },
  {
   "cell_type": "code",
   "execution_count": null,
   "id": "48ad153b-2cc6-45fd-97bd-926e5ed9a765",
   "metadata": {},
   "outputs": [],
   "source": [
    "seg_tone = mean_evokeds_tone[mean_evokeds_tone.msec > 150]\n",
    "seg_tone = seg_tone[seg_tone.msec < 280]\n",
    "\n",
    "# # Tone 1\n",
    "tmp = seg_tone[(seg_tone.tone == 110)]\n",
    "lat = int(tmp.msec[tmp.uV == max(tmp.uV)])\n",
    "print(f'Latency of max tone 1: {lat}')\n",
    "# # Tone 2\n",
    "tmp = seg_tone[(seg_tone.tone == 150)]\n",
    "lat = int(tmp.msec[tmp.uV == max(tmp.uV)])\n",
    "print(f'Latency of max tone 2: {lat}')\n",
    "# # Tone 3\n",
    "tmp = seg_tone[(seg_tone.tone == 210)]\n",
    "lat = int(tmp.msec[tmp.uV == max(tmp.uV)])\n",
    "print(f'Latency of max tone 3: {lat}')\n",
    "\n",
    "seg_target = mean_evokeds_target[mean_evokeds_target.msec > 150]\n",
    "seg_target = seg_target[seg_target.msec < 280]\n",
    "\n",
    "# Tone 1 when tone 1 is target\n",
    "tmp = seg_target[(seg_target.tone == 110) & (seg_target.target == 110)]\n",
    "lat = int(tmp.msec[tmp.uV == max(tmp.uV)])\n",
    "print(f'Latency of max tone 1, target 1: {lat}')\n",
    "# Tone 1 when tone 2 is target\n",
    "tmp = seg_target[(seg_target.tone == 110) & (seg_target.target == 150)]\n",
    "lat = int(tmp.msec[tmp.uV == max(tmp.uV)])\n",
    "print(f'Latency of max tone 1, target 2: {lat}')\n",
    "# Tone 1 when tone 3 is target\n",
    "tmp = seg_target[(seg_target.tone == 110) & (seg_target.target == 210)]\n",
    "lat = int(tmp.msec[tmp.uV == max(tmp.uV)])\n",
    "print(f'Latency of max tone 1, target 3: {lat}')\n",
    "\n",
    "# Tone 2 when tone 1 is target\n",
    "tmp = seg_target[(seg_target.tone == 150) & (seg_target.target == 110)]\n",
    "lat = int(tmp.msec[tmp.uV == max(tmp.uV)])\n",
    "print(f'Latency of max tone 2, target 1: {lat}')\n",
    "# Tone 2 when tone 2 is target\n",
    "tmp = seg_target[(seg_target.tone == 150) & (seg_target.target == 150)]\n",
    "lat = int(tmp.msec[tmp.uV == max(tmp.uV)])\n",
    "print(f'Latency of max tone 2, target 2: {lat}')\n",
    "# Tone 2 when tone 3 is target\n",
    "tmp = seg_target[(seg_target.tone == 150) & (seg_target.target == 210)]\n",
    "lat = int(tmp.msec[tmp.uV == max(tmp.uV)])\n",
    "print(f'Latency of max tone 2, target 3: {lat}')\n",
    "\n",
    "# Tone 3 when tone 1 is target\n",
    "tmp = seg_target[(seg_target.tone == 210) & (seg_target.target == 110)]\n",
    "lat = int(tmp.msec[tmp.uV == max(tmp.uV)])\n",
    "print(f'Latency of max tone 3, target 1: {lat}')\n",
    "# Tone 3 when tone 2 is target\n",
    "tmp = seg_target[(seg_target.tone == 210) & (seg_target.target == 150)]\n",
    "lat = int(tmp.msec[tmp.uV == max(tmp.uV)])\n",
    "print(f'Latency of max tone 3, target 2: {lat}')\n",
    "# Tone 3 when tone 3 is target\n",
    "tmp = seg_target[(seg_target.tone == 210) & (seg_target.target == 210)]\n",
    "lat = int(tmp.msec[tmp.uV == max(tmp.uV)])\n",
    "print(f'Latency of max tone 3, target 3: {lat}')"
   ]
  },
  {
   "cell_type": "markdown",
   "id": "8904f408-97a6-4d48-a29e-be01d00936ab",
   "metadata": {},
   "source": [
    "#### Min at 250-450 msec (important)"
   ]
  },
  {
   "cell_type": "code",
   "execution_count": null,
   "id": "e4a4314e-0b84-4b64-965a-122a50e110bf",
   "metadata": {},
   "outputs": [],
   "source": [
    "seg_tone = mean_evokeds_tone[mean_evokeds_tone.msec > 250]\n",
    "seg_tone = seg_tone[seg_tone.msec < 450]\n",
    "\n",
    "# # Tone 1\n",
    "tmp = seg_tone[(seg_tone.tone == 110)]\n",
    "lat = int(tmp.msec[tmp.uV == min(tmp.uV)])\n",
    "print(f'Latency of min tone 1: {lat}')\n",
    "# # Tone 2\n",
    "tmp = seg_tone[(seg_tone.tone == 150)]\n",
    "lat = int(tmp.msec[tmp.uV == min(tmp.uV)])\n",
    "print(f'Latency of min tone 2: {lat}')\n",
    "# # Tone 3\n",
    "tmp = seg_tone[(seg_tone.tone == 210)]\n",
    "lat = int(tmp.msec[tmp.uV == min(tmp.uV)])\n",
    "print(f'Latency of min tone 3: {lat}')\n",
    "\n",
    "seg_target = mean_evokeds_target[mean_evokeds_target.msec > 250]\n",
    "seg_target = seg_target[seg_target.msec < 450]\n",
    "\n",
    "# Tone 1 when tone 1 is target\n",
    "tmp = seg_target[(seg_target.tone == 110) & (seg_target.target == 110)]\n",
    "lat = int(tmp.msec[tmp.uV == min(tmp.uV)])\n",
    "print(f'Latency of min tone 1, target 1: {lat}')\n",
    "# Tone 1 when tone 2 is target\n",
    "tmp = seg_target[(seg_target.tone == 110) & (seg_target.target == 150)]\n",
    "lat = int(tmp.msec[tmp.uV == min(tmp.uV)])\n",
    "print(f'Latency of min tone 1, target 2: {lat}')\n",
    "# Tone 1 when tone 3 is target\n",
    "tmp = seg_target[(seg_target.tone == 110) & (seg_target.target == 210)]\n",
    "lat = int(tmp.msec[tmp.uV == min(tmp.uV)])\n",
    "print(f'Latency of min tone 1, target 3: {lat}')\n",
    "\n",
    "# Tone 2 when tone 1 is target\n",
    "tmp = seg_target[(seg_target.tone == 150) & (seg_target.target == 110)]\n",
    "lat = int(tmp.msec[tmp.uV == min(tmp.uV)])\n",
    "print(f'Latency of min tone 2, target 1: {lat}')\n",
    "# Tone 2 when tone 2 is target\n",
    "tmp = seg_target[(seg_target.tone == 150) & (seg_target.target == 150)]\n",
    "lat = int(tmp.msec[tmp.uV == min(tmp.uV)])\n",
    "print(f'Latency of min tone 2, target 2: {lat}')\n",
    "# Tone 2 when tone 3 is target\n",
    "tmp = seg_target[(seg_target.tone == 150) & (seg_target.target == 210)]\n",
    "lat = int(tmp.msec[tmp.uV == min(tmp.uV)])\n",
    "print(f'Latency of min tone 2, target 3: {lat}')\n",
    "\n",
    "# Tone 3 when tone 1 is target\n",
    "tmp = seg_target[(seg_target.tone == 210) & (seg_target.target == 110)]\n",
    "lat = int(tmp.msec[tmp.uV == min(tmp.uV)])\n",
    "print(f'Latency of min tone 3, target 1: {lat}')\n",
    "# Tone 3 when tone 2 is target\n",
    "tmp = seg_target[(seg_target.tone == 210) & (seg_target.target == 150)]\n",
    "lat = int(tmp.msec[tmp.uV == min(tmp.uV)])\n",
    "print(f'Latency of min tone 3, target 2: {lat}')\n",
    "# Tone 3 when tone 3 is target\n",
    "tmp = seg_target[(seg_target.tone == 210) & (seg_target.target == 210)]\n",
    "lat = int(tmp.msec[tmp.uV == min(tmp.uV)])\n",
    "print(f'Latency of min tone 3, target 3: {lat}')"
   ]
  },
  {
   "cell_type": "markdown",
   "id": "2cd02785-84f3-44f7-99a8-135f0333c6a1",
   "metadata": {},
   "source": [
    "#### Tests on latencies"
   ]
  },
  {
   "cell_type": "code",
   "execution_count": null,
   "id": "4d40ede0-5288-48cb-b19a-09b03a13a0ee",
   "metadata": {},
   "outputs": [],
   "source": [
    "evokeds"
   ]
  },
  {
   "cell_type": "code",
   "execution_count": null,
   "id": "4763653e-7ae8-42c0-a48e-14a3146f2410",
   "metadata": {},
   "outputs": [],
   "source": [
    "predictability = [True, False]\n",
    "\n",
    "def get_latencies_tone(evokeds, start, end, peak_type):\n",
    "    all_lat = []\n",
    "    tones = [110, 150, 210]\n",
    "    for sub in np.unique(evokeds['sub']):\n",
    "        for tone in tones:\n",
    "            evokeds_cz = evokeds[evokeds.chan == 'Cz']\n",
    "            evokeds_sub = evokeds_cz[evokeds_cz['sub'] == sub]\n",
    "            seg = evokeds_sub[evokeds_sub.msec > start]\n",
    "            seg = seg[seg.msec < end]\n",
    "            seg = seg[seg.tone == tone]\n",
    "            if peak_type == 'min':\n",
    "                peak = min(seg.uV)\n",
    "            elif peak_type == 'max':\n",
    "                peak = max(seg.uV)\n",
    "            lat = int(seg.msec[seg.uV == peak])\n",
    "            df = pd.DataFrame({\n",
    "                'sub': [sub],\n",
    "                'start': [start],\n",
    "                'end': [end],\n",
    "                'tone': [tone],\n",
    "                'peak_type': [peak_type],\n",
    "                'peak': [peak],\n",
    "                'latency': [lat],\n",
    "            })\n",
    "            all_lat.append(df)\n",
    "    all_lat = pd.concat(all_lat)\n",
    "    return all_lat\n",
    "    \n",
    "def get_latencies_target(evokeds, start, end, peak_type):\n",
    "    all_lat = []\n",
    "    tones = [110, 150, 210]\n",
    "    for sub in np.unique(evokeds['sub']):\n",
    "        for tone in tones:\n",
    "            for target in tones:\n",
    "                evokeds_cz = evokeds[evokeds.chan == 'Cz']\n",
    "                evokeds_sub = evokeds_cz[evokeds_cz['sub'] == sub]\n",
    "                seg = evokeds_sub[evokeds_sub.msec > start]\n",
    "                seg = seg[seg.msec < end]\n",
    "                seg = seg[(seg.tone == tone) & (seg.target == target)]\n",
    "                if peak_type == 'min':\n",
    "                    peak = min(seg.uV)\n",
    "                elif peak_type == 'max':\n",
    "                    peak = max(seg.uV)\n",
    "                lat = int(seg.msec[seg.uV == peak])\n",
    "                df = pd.DataFrame({\n",
    "                    'sub': [sub],\n",
    "                    'start': [start],\n",
    "                    'end': [end],\n",
    "                    'tone': [tone],\n",
    "                    'target': [target],\n",
    "                    'peak_type': [peak_type],\n",
    "                    'peak': [peak],\n",
    "                    'latency': [lat],\n",
    "                })\n",
    "                all_lat.append(df)\n",
    "    all_lat = pd.concat(all_lat)\n",
    "    return all_lat"
   ]
  },
  {
   "cell_type": "markdown",
   "id": "3ece2a2c-107a-4c05-a375-0c5bd2380ab9",
   "metadata": {},
   "source": [
    "#### Min at 100-180 msec"
   ]
  },
  {
   "cell_type": "code",
   "execution_count": null,
   "id": "86ae7539-08a7-4c99-8acd-aa108be639b3",
   "metadata": {},
   "outputs": [],
   "source": [
    "latencies_tone = get_latencies_tone(evokeds, 100, 180, 'min')\n",
    "latencies_target = get_latencies_target(evokeds, 100, 180, 'min')"
   ]
  },
  {
   "cell_type": "code",
   "execution_count": null,
   "id": "c539c2cf-a4a2-4b7a-a348-2e58fca6a57e",
   "metadata": {},
   "outputs": [],
   "source": [
    "sns.barplot(latencies_tone, x = \"tone\", y = \"latency\")"
   ]
  },
  {
   "cell_type": "code",
   "execution_count": null,
   "id": "4a93380e-0928-4d0c-b70c-37dc8eb9d24c",
   "metadata": {},
   "outputs": [],
   "source": [
    "sns.barplot(latencies_target, x = \"tone\", y = \"latency\", hue = \"target\")"
   ]
  },
  {
   "cell_type": "markdown",
   "id": "b9e407e2-3305-4b8b-afb1-e1867e46cb4d",
   "metadata": {},
   "source": [
    "#### Max at 150-280 msec"
   ]
  },
  {
   "cell_type": "code",
   "execution_count": null,
   "id": "35849c39-bfe1-456b-bd53-e6d79101cbb1",
   "metadata": {},
   "outputs": [],
   "source": [
    "latencies_tone = get_latencies_tone(evokeds, 150, 280, 'max')\n",
    "latencies_target = get_latencies_target(evokeds, 150, 280, 'max')"
   ]
  },
  {
   "cell_type": "code",
   "execution_count": null,
   "id": "18a4e30b-b538-45ba-96ec-98543dc094c9",
   "metadata": {},
   "outputs": [],
   "source": [
    "sns.barplot(latencies_tone, x = \"tone\", y = \"latency\")"
   ]
  },
  {
   "cell_type": "code",
   "execution_count": null,
   "id": "4b18adef-dab7-4243-bc64-86cabc7e6472",
   "metadata": {},
   "outputs": [],
   "source": [
    "sns.barplot(latencies_target, x = \"tone\", y = \"latency\", hue = \"target\")"
   ]
  },
  {
   "cell_type": "markdown",
   "id": "52d74674-0ee9-4c00-bc33-4e7d2642b3ff",
   "metadata": {},
   "source": [
    "#### Min at 250-450 msec (important)"
   ]
  },
  {
   "cell_type": "code",
   "execution_count": null,
   "id": "8ded8431-eb1b-48f9-b2ce-50d060ab5cbd",
   "metadata": {},
   "outputs": [],
   "source": [
    "latencies_tone = get_latencies_tone(evokeds, 250, 450, 'min')\n",
    "latencies_target = get_latencies_target(evokeds, 250, 450, 'min')"
   ]
  },
  {
   "cell_type": "code",
   "execution_count": null,
   "id": "78308698-dab8-4f15-9b87-92a5a069d503",
   "metadata": {},
   "outputs": [],
   "source": [
    "sns.barplot(latencies_tone, x = \"tone\", y = \"latency\")"
   ]
  },
  {
   "cell_type": "code",
   "execution_count": null,
   "id": "89c785bd-960f-4e03-a93c-dc5779d04112",
   "metadata": {},
   "outputs": [],
   "source": [
    "sns.barplot(latencies_target, x = \"tone\", y = \"latency\", hue = \"target\")"
   ]
  },
  {
   "cell_type": "markdown",
   "id": "a32de5f6-7d6b-481e-9bc5-b34f05744c33",
   "metadata": {},
   "source": [
    "# Predictability"
   ]
  },
  {
   "cell_type": "markdown",
   "id": "bec2b463-3482-4046-a629-972c40d5897a",
   "metadata": {},
   "source": [
    "### Peaks"
   ]
  },
  {
   "cell_type": "code",
   "execution_count": null,
   "id": "314d6d9a-7873-4661-b37c-99a95d1eff39",
   "metadata": {},
   "outputs": [],
   "source": [
    "mean_evokeds_predictable = mean_evokeds.groupby(['sub', 'tone', 'predictable', 'msec'], as_index=False)['uV'].mean()"
   ]
  },
  {
   "cell_type": "markdown",
   "id": "4cadfa0b-d661-43c3-bfee-0665f6a2fbd3",
   "metadata": {},
   "source": [
    "#### Max at 80-130 msec"
   ]
  },
  {
   "cell_type": "code",
   "execution_count": null,
   "id": "3ff17487-1ad8-4cfa-a77b-3a7219a57cf7",
   "metadata": {},
   "outputs": [],
   "source": [
    "seg = mean_evokeds_predictable[mean_evokeds_predictable.msec > 80]\n",
    "seg = seg[seg.msec < 130]\n",
    "\n",
    "# Tone 1\n",
    "seg_1 = seg[seg.tone == 110]\n",
    "print(f'Max for predictable tone 1: {max(seg_1.uV[seg_1.predictable == True])}')\n",
    "print(f'Max for unpredictable tone 1: {max(seg_1.uV[seg_1.predictable == False])}')\n",
    "\n",
    "# Tone 2\n",
    "seg_2 = seg[seg.tone == 150]\n",
    "print(f'Max for predictable tone 2: {max(seg_2.uV[seg_2.predictable == True])}')\n",
    "print(f'Max for unpredictable tone 2: {max(seg_2.uV[seg_2.predictable == False])}')\n",
    "\n",
    "# Tone 3\n",
    "seg_3 = seg[seg.tone == 210]\n",
    "print(f'Max for predictable tone 3: {max(seg_3.uV[seg_3.predictable == True])}')\n",
    "print(f'Max for unpredictable tone 3: {max(seg_3.uV[seg_3.predictable == False])}')\n",
    "\n",
    "# Plot\n",
    "seg = seg.groupby(['sub', 'tone', 'predictable'], as_index = False)['uV'].max()\n",
    "sns.barplot(seg, x = \"tone\", y = \"uV\", hue = \"predictable\")\n",
    "\n",
    "# Test\n",
    "aov = AnovaRM(\n",
    "    data = seg, \n",
    "    depvar = 'uV',\n",
    "    subject = 'sub', \n",
    "    within = ['predictable', 'tone']\n",
    ")\n",
    "res = aov.fit()\n",
    "print(res)"
   ]
  },
  {
   "cell_type": "markdown",
   "id": "4e574ec1-0da9-485a-a542-8324dab2f89c",
   "metadata": {},
   "source": [
    "#### Min at 100-180 msec"
   ]
  },
  {
   "cell_type": "code",
   "execution_count": null,
   "id": "75bbcfd1-ad2f-4d89-8e21-c1db2cb39181",
   "metadata": {},
   "outputs": [],
   "source": [
    "seg = mean_evokeds_predictable[mean_evokeds_predictable.msec > 100]\n",
    "seg = seg[seg.msec < 180]\n",
    "\n",
    "# Tone 1\n",
    "seg_1 = seg[seg.tone == 110]\n",
    "print(f'Max for predictable tone 1: {max(seg_1.uV[seg_1.predictable == True])}')\n",
    "print(f'Max for unpredictable tone 1: {max(seg_1.uV[seg_1.predictable == False])}')\n",
    "\n",
    "# Tone 2\n",
    "seg_2 = seg[seg.tone == 150]\n",
    "print(f'Max for predictable tone 2: {max(seg_2.uV[seg_2.predictable == True])}')\n",
    "print(f'Max for unpredictable tone 2: {max(seg_2.uV[seg_2.predictable == False])}')\n",
    "\n",
    "# Tone 3\n",
    "seg_3 = seg[seg.tone == 210]\n",
    "print(f'Max for predictable tone 3: {max(seg_3.uV[seg_3.predictable == True])}')\n",
    "print(f'Max for unpredictable tone 3: {max(seg_3.uV[seg_3.predictable == False])}')\n",
    "\n",
    "# Plot\n",
    "seg = seg.groupby(['sub', 'tone', 'predictable'], as_index = False)['uV'].max()\n",
    "sns.barplot(seg, x = \"tone\", y = \"uV\", hue = \"predictable\")\n",
    "\n",
    "# Test\n",
    "aov = AnovaRM(\n",
    "    data = seg, \n",
    "    depvar = 'uV',\n",
    "    subject = 'sub', \n",
    "    within = ['predictable', 'tone']\n",
    ")\n",
    "res = aov.fit()\n",
    "print(res)"
   ]
  },
  {
   "cell_type": "markdown",
   "id": "2f052bb6-a87e-41e9-bab8-152d78b0ea17",
   "metadata": {},
   "source": [
    "#### Max at 150-280 msec"
   ]
  },
  {
   "cell_type": "code",
   "execution_count": null,
   "id": "5959aa4a-f593-43fb-b21c-4bec535cc9b8",
   "metadata": {},
   "outputs": [],
   "source": [
    "seg = mean_evokeds_predictable[mean_evokeds_predictable.msec > 150]\n",
    "seg = seg[seg.msec < 280]\n",
    "\n",
    "# Tone 1\n",
    "seg_1 = seg[seg.tone == 110]\n",
    "print(f'Max for predictable tone 1: {max(seg_1.uV[seg_1.predictable == True])}')\n",
    "print(f'Max for unpredictable tone 1: {max(seg_1.uV[seg_1.predictable == False])}')\n",
    "\n",
    "# Tone 2\n",
    "seg_2 = seg[seg.tone == 150]\n",
    "print(f'Max for predictable tone 2: {max(seg_2.uV[seg_2.predictable == True])}')\n",
    "print(f'Max for unpredictable tone 2: {max(seg_2.uV[seg_2.predictable == False])}')\n",
    "\n",
    "# Tone 3\n",
    "seg_3 = seg[seg.tone == 210]\n",
    "print(f'Max for predictable tone 3: {max(seg_3.uV[seg_3.predictable == True])}')\n",
    "print(f'Max for unpredictable tone 3: {max(seg_3.uV[seg_3.predictable == False])}')\n",
    "\n",
    "# Plot\n",
    "seg = seg.groupby(['sub', 'tone', 'predictable'], as_index = False)['uV'].max()\n",
    "sns.barplot(seg, x = \"tone\", y = \"uV\", hue = \"predictable\")\n",
    "\n",
    "# Test\n",
    "aov = AnovaRM(\n",
    "    data = seg, \n",
    "    depvar = 'uV',\n",
    "    subject = 'sub', \n",
    "    within = ['predictable', 'tone']\n",
    ")\n",
    "res = aov.fit()\n",
    "print(res)"
   ]
  },
  {
   "cell_type": "markdown",
   "id": "2c408377-e247-48c7-a7d3-88139d628575",
   "metadata": {},
   "source": [
    "#### Min at 250-450 msec"
   ]
  },
  {
   "cell_type": "code",
   "execution_count": null,
   "id": "fece98af-29bc-46cd-8456-df6ae64a2456",
   "metadata": {},
   "outputs": [],
   "source": [
    "seg = mean_evokeds_predictable[mean_evokeds_predictable.msec > 250]\n",
    "seg = seg[seg.msec < 450]\n",
    "\n",
    "# Tone 1\n",
    "seg_1 = seg[seg.tone == 110]\n",
    "print(f'Max for predictable tone 1: {max(seg_1.uV[seg_1.predictable == True])}')\n",
    "print(f'Max for unpredictable tone 1: {max(seg_1.uV[seg_1.predictable == False])}')\n",
    "\n",
    "# Tone 2\n",
    "seg_2 = seg[seg.tone == 150]\n",
    "print(f'Max for predictable tone 2: {max(seg_2.uV[seg_2.predictable == True])}')\n",
    "print(f'Max for unpredictable tone 2: {max(seg_2.uV[seg_2.predictable == False])}')\n",
    "\n",
    "# Tone 3\n",
    "seg_3 = seg[seg.tone == 210]\n",
    "print(f'Max for predictable tone 3: {max(seg_3.uV[seg_3.predictable == True])}')\n",
    "print(f'Max for unpredictable tone 3: {max(seg_3.uV[seg_3.predictable == False])}')\n",
    "\n",
    "# Plot\n",
    "seg = seg.groupby(['sub', 'tone', 'predictable'], as_index = False)['uV'].max()\n",
    "sns.barplot(seg, x = \"tone\", y = \"uV\", hue = \"predictable\")\n",
    "\n",
    "# Test\n",
    "aov = AnovaRM(\n",
    "    data = seg, \n",
    "    depvar = 'uV',\n",
    "    subject = 'sub', \n",
    "    within = ['predictable', 'tone']\n",
    ")\n",
    "res = aov.fit()\n",
    "print(res)"
   ]
  },
  {
   "cell_type": "markdown",
   "id": "286d2510-62b4-40c0-88e0-3cfc88b4fdc1",
   "metadata": {},
   "source": [
    "# Peak values"
   ]
  },
  {
   "cell_type": "code",
   "execution_count": 17,
   "id": "a6af183a-9a48-4484-901e-51793b084397",
   "metadata": {},
   "outputs": [
    {
     "data": {
      "text/html": [
       "<div>\n",
       "<style scoped>\n",
       "    .dataframe tbody tr th:only-of-type {\n",
       "        vertical-align: middle;\n",
       "    }\n",
       "\n",
       "    .dataframe tbody tr th {\n",
       "        vertical-align: top;\n",
       "    }\n",
       "\n",
       "    .dataframe thead th {\n",
       "        text-align: right;\n",
       "    }\n",
       "</style>\n",
       "<table border=\"1\" class=\"dataframe\">\n",
       "  <thead>\n",
       "    <tr style=\"text-align: right;\">\n",
       "      <th></th>\n",
       "      <th>tone</th>\n",
       "      <th>predictable</th>\n",
       "      <th>msec</th>\n",
       "      <th>uV</th>\n",
       "    </tr>\n",
       "  </thead>\n",
       "  <tbody>\n",
       "    <tr>\n",
       "      <th>0</th>\n",
       "      <td>110</td>\n",
       "      <td>False</td>\n",
       "      <td>-200</td>\n",
       "      <td>-0.626845</td>\n",
       "    </tr>\n",
       "    <tr>\n",
       "      <th>1</th>\n",
       "      <td>110</td>\n",
       "      <td>False</td>\n",
       "      <td>-199</td>\n",
       "      <td>-0.625476</td>\n",
       "    </tr>\n",
       "    <tr>\n",
       "      <th>2</th>\n",
       "      <td>110</td>\n",
       "      <td>False</td>\n",
       "      <td>-198</td>\n",
       "      <td>-0.631240</td>\n",
       "    </tr>\n",
       "    <tr>\n",
       "      <th>3</th>\n",
       "      <td>110</td>\n",
       "      <td>False</td>\n",
       "      <td>-197</td>\n",
       "      <td>-0.631118</td>\n",
       "    </tr>\n",
       "    <tr>\n",
       "      <th>4</th>\n",
       "      <td>110</td>\n",
       "      <td>False</td>\n",
       "      <td>-196</td>\n",
       "      <td>-0.636858</td>\n",
       "    </tr>\n",
       "    <tr>\n",
       "      <th>...</th>\n",
       "      <td>...</td>\n",
       "      <td>...</td>\n",
       "      <td>...</td>\n",
       "      <td>...</td>\n",
       "    </tr>\n",
       "    <tr>\n",
       "      <th>4195</th>\n",
       "      <td>210</td>\n",
       "      <td>True</td>\n",
       "      <td>495</td>\n",
       "      <td>0.087812</td>\n",
       "    </tr>\n",
       "    <tr>\n",
       "      <th>4196</th>\n",
       "      <td>210</td>\n",
       "      <td>True</td>\n",
       "      <td>496</td>\n",
       "      <td>0.086111</td>\n",
       "    </tr>\n",
       "    <tr>\n",
       "      <th>4197</th>\n",
       "      <td>210</td>\n",
       "      <td>True</td>\n",
       "      <td>497</td>\n",
       "      <td>0.090669</td>\n",
       "    </tr>\n",
       "    <tr>\n",
       "      <th>4198</th>\n",
       "      <td>210</td>\n",
       "      <td>True</td>\n",
       "      <td>498</td>\n",
       "      <td>0.088699</td>\n",
       "    </tr>\n",
       "    <tr>\n",
       "      <th>4199</th>\n",
       "      <td>210</td>\n",
       "      <td>True</td>\n",
       "      <td>499</td>\n",
       "      <td>0.093009</td>\n",
       "    </tr>\n",
       "  </tbody>\n",
       "</table>\n",
       "<p>4200 rows × 4 columns</p>\n",
       "</div>"
      ],
      "text/plain": [
       "      tone  predictable  msec        uV\n",
       "0      110        False  -200 -0.626845\n",
       "1      110        False  -199 -0.625476\n",
       "2      110        False  -198 -0.631240\n",
       "3      110        False  -197 -0.631118\n",
       "4      110        False  -196 -0.636858\n",
       "...    ...          ...   ...       ...\n",
       "4195   210         True   495  0.087812\n",
       "4196   210         True   496  0.086111\n",
       "4197   210         True   497  0.090669\n",
       "4198   210         True   498  0.088699\n",
       "4199   210         True   499  0.093009\n",
       "\n",
       "[4200 rows x 4 columns]"
      ]
     },
     "execution_count": 17,
     "metadata": {},
     "output_type": "execute_result"
    }
   ],
   "source": [
    "mean_evokeds_tone = evokeds_Cz.groupby(['tone', 'msec'], as_index=False)['uV'].mean()\n",
    "mean_evokeds_target = mean_evokeds.groupby(['target', 'tone', 'msec'], as_index=False)['uV'].mean()\n",
    "mean_evokeds_predictable = mean_evokeds.groupby(['tone', 'predictable', 'msec'], as_index=False)['uV'].mean()\n",
    "mean_evokeds_predictable"
   ]
  },
  {
   "cell_type": "markdown",
   "id": "a38599b4-90e3-41d9-a719-86c700aa0f06",
   "metadata": {},
   "source": [
    "#### P1 (max at 50-100 msec)"
   ]
  },
  {
   "cell_type": "code",
   "execution_count": null,
   "id": "cef915e1-dc9e-4d9f-a5a1-4e03deda909c",
   "metadata": {},
   "outputs": [],
   "source": [
    "seg_tone = mean_evokeds_tone[mean_evokeds_tone.msec > 50]\n",
    "seg_tone = seg_tone[seg_tone.msec < 100]\n",
    "\n",
    "# Tone 1\n",
    "print(f'Max tone 1: {max(seg_tone.uV[seg_tone.tone == 110])}')\n",
    "# Tone 2\n",
    "print(f'Max tone 2: {max(seg_tone.uV[seg_tone.tone == 150])}')\n",
    "# Tone 3\n",
    "print(f'Max tone 3: {max(seg_tone.uV[seg_tone.tone == 210])}')\n",
    "\n",
    "seg_target = mean_evokeds_target[mean_evokeds_target.msec > 50]\n",
    "seg_target = seg_target[seg_target.msec < 100]\n",
    "\n",
    "# Tone 1 when tone 1 is target\n",
    "print(f'Max tone 1, target 1: {max(seg_target.uV[(seg_target.tone == 110) & (seg_target.target == 110)])}')\n",
    "# Tone 1 when tone 2 is target\n",
    "print(f'Max tone 1, target 2: {max(seg_target.uV[(seg_target.tone == 110) & (seg_target.target == 150)])}')\n",
    "# Tone 1 when tone 3 is target\n",
    "print(f'Max tone 1, target 3: {max(seg_target.uV[(seg_target.tone == 110) & (seg_target.target == 210)])}')\n",
    "# Tone 2 when tone 1 is target\n",
    "print(f'Max tone 2, target 1: {max(seg_target.uV[(seg_target.tone == 150) & (seg_target.target == 110)])}')\n",
    "# Tone 2 when tone 2 is target\n",
    "print(f'Max tone 2, target 2: {max(seg_target.uV[(seg_target.tone == 150) & (seg_target.target == 150)])}')\n",
    "# Tone 2 when tone 3 is target\n",
    "print(f'Max tone 3, target 3: {max(seg_target.uV[(seg_target.tone == 150) & (seg_target.target == 210)])}')\n",
    "# Tone 3 when tone 1 is target\n",
    "print(f'Max tone 3, target 1: {max(seg_target.uV[(seg_target.tone == 210) & (seg_target.target == 110)])}')\n",
    "# Tone 3 when tone 2 is target\n",
    "print(f'Max tone 3, target 2: {max(seg_target.uV[(seg_target.tone == 210) & (seg_target.target == 150)])}')\n",
    "# Tone 3 when tone 3 is target\n",
    "print(f'Max tone 3, target 3: {max(seg_target.uV[(seg_target.tone == 210) & (seg_target.target == 210)])}')"
   ]
  },
  {
   "cell_type": "markdown",
   "id": "d997d889-a632-43d1-9b21-290171a0f33c",
   "metadata": {},
   "source": [
    "#### N1 (min at 70-150 msec)"
   ]
  },
  {
   "cell_type": "code",
   "execution_count": null,
   "id": "8a279bfc-4c2f-4d86-bb00-f4a8d9e4c4af",
   "metadata": {},
   "outputs": [],
   "source": [
    "seg_tone = mean_evokeds_tone[mean_evokeds_tone.msec > 70]\n",
    "seg_tone = seg_tone[seg_tone.msec < 150]\n",
    "\n",
    "# Tone 1\n",
    "print(f'Max tone 1: {min(seg_tone.uV[seg_tone.tone == 110])}')\n",
    "# Tone 2\n",
    "print(f'Max tone 2: {min(seg_tone.uV[seg_tone.tone == 150])}')\n",
    "# Tone 3\n",
    "print(f'Max tone 3: {min(seg_tone.uV[seg_tone.tone == 210])}')\n",
    "\n",
    "seg_target = mean_evokeds_target[mean_evokeds_target.msec > 70]\n",
    "seg_target = seg_target[seg_target.msec < 150]\n",
    "\n",
    "# Tone 1 when tone 1 is target\n",
    "print(f'Max tone 1, target 1: {min(seg_target.uV[(seg_target.tone == 110) & (seg_target.target == 110)])}')\n",
    "# Tone 1 when tone 2 is target\n",
    "print(f'Max tone 1, target 2: {min(seg_target.uV[(seg_target.tone == 110) & (seg_target.target == 150)])}')\n",
    "# Tone 1 when tone 3 is target\n",
    "print(f'Max tone 1, target 3: {min(seg_target.uV[(seg_target.tone == 110) & (seg_target.target == 210)])}')\n",
    "# Tone 2 when tone 1 is target\n",
    "print(f'Max tone 2, target 1: {min(seg_target.uV[(seg_target.tone == 150) & (seg_target.target == 110)])}')\n",
    "# Tone 2 when tone 2 is target\n",
    "print(f'Max tone 2, target 2: {min(seg_target.uV[(seg_target.tone == 150) & (seg_target.target == 150)])}')\n",
    "# Tone 2 when tone 3 is target\n",
    "print(f'Max tone 3, target 3: {min(seg_target.uV[(seg_target.tone == 150) & (seg_target.target == 210)])}')\n",
    "# Tone 3 when tone 1 is target\n",
    "print(f'Max tone 3, target 1: {min(seg_target.uV[(seg_target.tone == 210) & (seg_target.target == 110)])}')\n",
    "# Tone 3 when tone 2 is target\n",
    "print(f'Max tone 3, target 2: {min(seg_target.uV[(seg_target.tone == 210) & (seg_target.target == 150)])}')\n",
    "# Tone 3 when tone 3 is target\n",
    "print(f'Max tone 3, target 3: {min(seg_target.uV[(seg_target.tone == 210) & (seg_target.target == 210)])}')"
   ]
  },
  {
   "cell_type": "markdown",
   "id": "3c97e0ec-b725-4bd1-9b71-827051a4107a",
   "metadata": {},
   "source": [
    "#### P2 (max at 120-250 msec)"
   ]
  },
  {
   "cell_type": "code",
   "execution_count": null,
   "id": "1e70c396-89db-4cd0-9b76-477e425fe8e6",
   "metadata": {},
   "outputs": [],
   "source": [
    "seg_tone = mean_evokeds_tone[mean_evokeds_tone.msec > 120]\n",
    "seg_tone = seg_tone[seg_tone.msec < 250]\n",
    "\n",
    "# Tone 1\n",
    "print(f'Max tone 1: {max(seg_tone.uV[seg_tone.tone == 110])}')\n",
    "# Tone 2\n",
    "print(f'Max tone 2: {max(seg_tone.uV[seg_tone.tone == 150])}')\n",
    "# Tone 3\n",
    "print(f'Max tone 3: {max(seg_tone.uV[seg_tone.tone == 210])}')\n",
    "\n",
    "seg_target = mean_evokeds_target[mean_evokeds_target.msec > 120]\n",
    "seg_target = seg_target[seg_target.msec < 250]\n",
    "\n",
    "# Tone 1 when tone 1 is target\n",
    "print(f'Max tone 1, target 1: {max(seg_target.uV[(seg_target.tone == 110) & (seg_target.target == 110)])}')\n",
    "# Tone 1 when tone 2 is target\n",
    "print(f'Max tone 1, target 2: {max(seg_target.uV[(seg_target.tone == 110) & (seg_target.target == 150)])}')\n",
    "# Tone 1 when tone 3 is target\n",
    "print(f'Max tone 1, target 3: {max(seg_target.uV[(seg_target.tone == 110) & (seg_target.target == 210)])}')\n",
    "# Tone 2 when tone 1 is target\n",
    "print(f'Max tone 2, target 1: {max(seg_target.uV[(seg_target.tone == 150) & (seg_target.target == 110)])}')\n",
    "# Tone 2 when tone 2 is target\n",
    "print(f'Max tone 2, target 2: {max(seg_target.uV[(seg_target.tone == 150) & (seg_target.target == 150)])}')\n",
    "# Tone 2 when tone 3 is target\n",
    "print(f'Max tone 3, target 3: {max(seg_target.uV[(seg_target.tone == 150) & (seg_target.target == 210)])}')\n",
    "# Tone 3 when tone 1 is target\n",
    "print(f'Max tone 3, target 1: {max(seg_target.uV[(seg_target.tone == 210) & (seg_target.target == 110)])}')\n",
    "# Tone 3 when tone 2 is target\n",
    "print(f'Max tone 3, target 2: {max(seg_target.uV[(seg_target.tone == 210) & (seg_target.target == 150)])}')\n",
    "# Tone 3 when tone 3 is target\n",
    "print(f'Max tone 3, target 3: {max(seg_target.uV[(seg_target.tone == 210) & (seg_target.target == 210)])}')"
   ]
  },
  {
   "cell_type": "markdown",
   "id": "41927def-0e44-4a5d-8e72-076a66655a1a",
   "metadata": {},
   "source": [
    "#### N2 (min at 220-420 msec)"
   ]
  },
  {
   "cell_type": "code",
   "execution_count": null,
   "id": "87ca9ffa-8dbe-4b38-84dd-fee0b19b6c68",
   "metadata": {},
   "outputs": [],
   "source": [
    "seg_tone = mean_evokeds_tone[mean_evokeds_tone.msec > 220]\n",
    "seg_tone = seg_tone[seg_tone.msec < 420]\n",
    "\n",
    "# Tone 1\n",
    "print(f'Max tone 1: {min(seg_tone.uV[seg_tone.tone == 110])}')\n",
    "# Tone 2\n",
    "print(f'Max tone 2: {min(seg_tone.uV[seg_tone.tone == 150])}')\n",
    "# Tone 3\n",
    "print(f'Max tone 3: {min(seg_tone.uV[seg_tone.tone == 210])}')\n",
    "\n",
    "seg_target = mean_evokeds_target[mean_evokeds_target.msec > 220]\n",
    "seg_target = seg_target[seg_target.msec < 420]\n",
    "\n",
    "# Tone 1 when tone 1 is target\n",
    "print(f'Max tone 1, target 1: {min(seg_target.uV[(seg_target.tone == 110) & (seg_target.target == 110)])}')\n",
    "# Tone 1 when tone 2 is target\n",
    "print(f'Max tone 1, target 2: {min(seg_target.uV[(seg_target.tone == 110) & (seg_target.target == 150)])}')\n",
    "# Tone 1 when tone 3 is target\n",
    "print(f'Max tone 1, target 3: {min(seg_target.uV[(seg_target.tone == 110) & (seg_target.target == 210)])}')\n",
    "# Tone 2 when tone 1 is target\n",
    "print(f'Max tone 2, target 1: {min(seg_target.uV[(seg_target.tone == 150) & (seg_target.target == 110)])}')\n",
    "# Tone 2 when tone 2 is target\n",
    "print(f'Max tone 2, target 2: {min(seg_target.uV[(seg_target.tone == 150) & (seg_target.target == 150)])}')\n",
    "# Tone 2 when tone 3 is target\n",
    "print(f'Max tone 3, target 3: {min(seg_target.uV[(seg_target.tone == 150) & (seg_target.target == 210)])}')\n",
    "# Tone 3 when tone 1 is target\n",
    "print(f'Max tone 3, target 1: {min(seg_target.uV[(seg_target.tone == 210) & (seg_target.target == 110)])}')\n",
    "# Tone 3 when tone 2 is target\n",
    "print(f'Max tone 3, target 2: {min(seg_target.uV[(seg_target.tone == 210) & (seg_target.target == 150)])}')\n",
    "# Tone 3 when tone 3 is target\n",
    "print(f'Max tone 3, target 3: {min(seg_target.uV[(seg_target.tone == 210) & (seg_target.target == 210)])}')"
   ]
  },
  {
   "cell_type": "code",
   "execution_count": null,
   "id": "d0aa8dbd-ec16-40ff-8a70-45e09df30425",
   "metadata": {},
   "outputs": [],
   "source": []
  },
  {
   "cell_type": "code",
   "execution_count": null,
   "id": "30032dc0-02c8-46cd-ba64-1cef06182294",
   "metadata": {},
   "outputs": [],
   "source": []
  },
  {
   "cell_type": "code",
   "execution_count": null,
   "id": "de108805-7d1b-4247-a6b0-89e234e2d693",
   "metadata": {},
   "outputs": [],
   "source": []
  },
  {
   "cell_type": "code",
   "execution_count": null,
   "id": "05df849e-a252-4c30-8a38-0ed2618242a1",
   "metadata": {},
   "outputs": [],
   "source": []
  },
  {
   "cell_type": "code",
   "execution_count": null,
   "id": "eae0c74d-9d8e-4300-8a63-5b91d90cfdca",
   "metadata": {},
   "outputs": [],
   "source": []
  },
  {
   "cell_type": "code",
   "execution_count": null,
   "id": "ee22f7ef-8493-4cb9-a67d-1939c95a0d68",
   "metadata": {},
   "outputs": [],
   "source": []
  },
  {
   "cell_type": "code",
   "execution_count": null,
   "id": "36d02e47-8e4e-48d5-ad03-7fddecd3e139",
   "metadata": {},
   "outputs": [],
   "source": []
  }
 ],
 "metadata": {
  "kernelspec": {
   "display_name": "Python 3 (ipykernel)",
   "language": "python",
   "name": "python3"
  },
  "language_info": {
   "codemirror_mode": {
    "name": "ipython",
    "version": 3
   },
   "file_extension": ".py",
   "mimetype": "text/x-python",
   "name": "python",
   "nbconvert_exporter": "python",
   "pygments_lexer": "ipython3",
   "version": "3.11.7"
  }
 },
 "nbformat": 4,
 "nbformat_minor": 5
}
