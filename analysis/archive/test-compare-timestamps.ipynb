{
 "cells": [
  {
   "cell_type": "code",
   "execution_count": 5,
   "id": "cd1923f4-8d78-4f74-980a-eec1bafa0de9",
   "metadata": {},
   "outputs": [
    {
     "name": "stdout",
     "output_type": "stream",
     "text": [
      "/project/hcn1/Letty/expectations-ffr/data/raw/sub-3_task-expectations.vhdr\n",
      "Extracting parameters from /project/hcn1/Letty/expectations-ffr/data/raw/sub-3_task-expectations.vhdr...\n",
      "Setting channel info structure...\n"
     ]
    },
    {
     "name": "stderr",
     "output_type": "stream",
     "text": [
      "/home/letitiayhho/ipykernel_842527/809981684.py:25: RuntimeWarning: No coordinate information found for channels ['leog', 'reog', 'Aux']. Setting channel types to misc. To avoid this warning, set channel types explicitly.\n",
      "  raw = mne.io.read_raw_brainvision(fpath)\n",
      "/home/letitiayhho/ipykernel_842527/809981684.py:25: RuntimeWarning: Online software filter detected. Using software filter settings and ignoring hardware values\n",
      "  raw = mne.io.read_raw_brainvision(fpath)\n",
      "/home/letitiayhho/ipykernel_842527/809981684.py:25: RuntimeWarning: Not setting positions of 3 misc channels found in montage:\n",
      "['leog', 'reog', 'Aux']\n",
      "Consider setting the channel types to be of EEG/sEEG/ECoG/DBS/fNIRS using inst.set_channel_types before calling inst.set_montage, or omit these channels when creating your montage.\n",
      "  raw = mne.io.read_raw_brainvision(fpath)\n"
     ]
    },
    {
     "name": "stdout",
     "output_type": "stream",
     "text": [
      "Reading 0 ... 30437999  =      0.000 ...  3043.800 secs...\n"
     ]
    },
    {
     "name": "stderr",
     "output_type": "stream",
     "text": [
      "/home/letitiayhho/ipykernel_842527/809981684.py:27: RuntimeWarning: The unit for channel(s) Aux has changed from NA to V.\n",
      "  raw.set_channel_types({'Aux': 'stim'})\n"
     ]
    },
    {
     "name": "stdout",
     "output_type": "stream",
     "text": [
      "Add line_freq to raw.info\n"
     ]
    },
    {
     "name": "stderr",
     "output_type": "stream",
     "text": [
      "/home/letitiayhho/ipykernel_842527/809981684.py:32: RuntimeWarning: The locations of multiple reference channels are ignored.\n",
      "  raw.add_reference_channels(ref_channels = ['FCz'])\n"
     ]
    },
    {
     "name": "stdout",
     "output_type": "stream",
     "text": [
      "Set annotations\n",
      "Used Annotations descriptions: ['New Segment/', 'Stimulus/S 11', 'Stimulus/S 12', 'Stimulus/S 13', 'Stimulus/S 21', 'Stimulus/S 22', 'Stimulus/S 23', 'Stimulus/S 31', 'Stimulus/S 32', 'Stimulus/S 33', 'Stimulus/S 41', 'Stimulus/S 42', 'Stimulus/S 43', 'Stimulus/S 51', 'Stimulus/S 52', 'Stimulus/S 53', 'Stimulus/S 61', 'Stimulus/S 62', 'Stimulus/S 63']\n",
      "Events for raw data\n",
      "[[  354185        0       53]\n",
      " [  360478        0       53]\n",
      " [  366612        0       53]\n",
      " ...\n",
      " [30303803        0       42]\n",
      " [30310201        0       41]\n",
      " [30316302        0       43]]\n",
      "Shifting event timings for 10000.0 by 1000 points\n",
      "Shifted events for raw data\n",
      "[[  355185        0       53]\n",
      " [  361478        0       53]\n",
      " [  367612        0       53]\n",
      " ...\n",
      " [30304803        0       42]\n",
      " [30311201        0       41]\n",
      " [30317302        0       43]]\n",
      "../data/bids/sub-3/eeg/sub-3_task-expectations_run-1_eeg.vhdr\n",
      "Used Annotations descriptions: ['11', '12', '13', '21', '22', '23', '31', '32', '33', '41', '42', '43', '51', '52', '53', '61', '62', '63']\n",
      "Events for bids data\n",
      "[[  355185        0    10015]\n",
      " [  361478        0    10015]\n",
      " [  367612        0    10015]\n",
      " ...\n",
      " [30304803        0    10011]\n",
      " [30311201        0    10010]\n",
      " [30317302        0    10012]]\n"
     ]
    },
    {
     "name": "stderr",
     "output_type": "stream",
     "text": [
      "/home/letitiayhho/ipykernel_842527/809981684.py:63: RuntimeWarning: There are channels without locations (n/a) that are not marked as bad: ['leog', 'reog']\n",
      "  raw = read_raw_bids(bids_path, verbose = False)\n",
      "/home/letitiayhho/ipykernel_842527/809981684.py:63: RuntimeWarning: Not setting positions of 2 misc channels found in montage:\n",
      "['leog', 'reog']\n",
      "Consider setting the channel types to be of EEG/sEEG/ECoG/DBS/fNIRS using inst.set_channel_types before calling inst.set_montage, or omit these channels when creating your montage.\n",
      "  raw = read_raw_bids(bids_path, verbose = False)\n"
     ]
    }
   ],
   "source": [
    "# Compare events timestamps for raw data vs bids data\n",
    "\n",
    "from mne_bids import BIDSPath, write_raw_bids, get_anonymization_daysback, read_raw_bids\n",
    "import random\n",
    "import pandas as pd\n",
    "import numpy as np\n",
    "import itertools\n",
    "import mne\n",
    "import os\n",
    "import sys\n",
    "import re\n",
    "\n",
    "fpath = '/project/hcn1/Letty/expectations-ffr/data/raw/sub-3_task-expectations.vhdr'\n",
    "sub = '3'\n",
    "task = 'expectations'\n",
    "run = '1'\n",
    "\n",
    "RAW_DIR = '../data/raw/' \n",
    "MAPS_DIR = '../data/captrak/'\n",
    "BIDS_DIR = '../data/bids/'\n",
    "\n",
    "# load data with MNE function for your file format\n",
    "fpath = os.path.join(RAW_DIR, fpath)\n",
    "print(fpath)\n",
    "raw = mne.io.read_raw_brainvision(fpath)\n",
    "raw.load_data()\n",
    "raw.set_channel_types({'Aux': 'stim'})\n",
    "\n",
    "# add some info BIDS will want\n",
    "print(\"Add line_freq to raw.info\")\n",
    "raw.info['line_freq'] = 60 # the power line frequency in the building we collected in\n",
    "raw.add_reference_channels(ref_channels = ['FCz'])\n",
    "\n",
    "# drop meaningless event name\n",
    "print(\"Set annotations\")\n",
    "events, event_ids = mne.events_from_annotations(raw)\n",
    "events = events[events[:,2] != event_ids['New Segment/'], :]\n",
    "\n",
    "print('Events for raw data')\n",
    "print(events)\n",
    "\n",
    "# shift timestamp\n",
    "sfreq = raw.info['sfreq']\n",
    "if sfreq == 10000.0: \n",
    "    print(f'Shifting event timings for {sfreq} by 1000 points')\n",
    "    events[:,0] = events[:,0] + 1000 # Fix timestamp\n",
    "elif sfreq == 5000.0:\n",
    "    print(f'Shifting event timings for {sfreq} by 500 points')\n",
    "    events[:,0] = events[:,0] + 500 # Fix timestamp\n",
    "\n",
    "print('Shifted events for raw data')\n",
    "print(events)\n",
    "\n",
    "# Load bids and events\n",
    "bids_path = BIDSPath(\n",
    "    root = BIDS_DIR,\n",
    "    subject = sub,\n",
    "    task = task,\n",
    "    run = run,\n",
    "    datatype = 'eeg'\n",
    "    )\n",
    "print(bids_path)\n",
    "raw = read_raw_bids(bids_path, verbose = False)\n",
    "events, event_ids = mne.events_from_annotations(raw)\n",
    "\n",
    "print('Events for bids data')\n",
    "print(events)"
   ]
  },
  {
   "cell_type": "code",
   "execution_count": null,
   "id": "5f78d912-2b75-4e62-a8d4-384b482d1ab7",
   "metadata": {},
   "outputs": [],
   "source": []
  }
 ],
 "metadata": {
  "kernelspec": {
   "display_name": "Python 3 (ipykernel)",
   "language": "python",
   "name": "python3"
  },
  "language_info": {
   "codemirror_mode": {
    "name": "ipython",
    "version": 3
   },
   "file_extension": ".py",
   "mimetype": "text/x-python",
   "name": "python",
   "nbconvert_exporter": "python",
   "pygments_lexer": "ipython3",
   "version": "3.11.7"
  }
 },
 "nbformat": 4,
 "nbformat_minor": 5
}
