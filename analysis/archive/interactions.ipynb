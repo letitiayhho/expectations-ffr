{
 "cells": [
  {
   "cell_type": "code",
   "execution_count": 1,
   "id": "60b4f534",
   "metadata": {},
   "outputs": [],
   "source": [
    "import os\n",
    "import os.path as op\n",
    "import numpy as np\n",
    "import re\n",
    "import itertools\n",
    "import matplotlib.pyplot as plt\n",
    "import pandas as pd\n",
    "import seaborn as sns\n",
    "from sklearn.linear_model import LinearRegression\n",
    "from pathlib import Path\n",
    "from scipy.stats import ttest_1samp"
   ]
  },
  {
   "cell_type": "code",
   "execution_count": 2,
   "id": "e8e3c2ae",
   "metadata": {},
   "outputs": [],
   "source": [
    "accuracy = pd.read_csv('../data/accuracy.csv')"
   ]
  },
  {
   "cell_type": "code",
   "execution_count": 3,
   "id": "66afc066",
   "metadata": {},
   "outputs": [
    {
     "data": {
      "text/html": [
       "<div>\n",
       "<style scoped>\n",
       "    .dataframe tbody tr th:only-of-type {\n",
       "        vertical-align: middle;\n",
       "    }\n",
       "\n",
       "    .dataframe tbody tr th {\n",
       "        vertical-align: top;\n",
       "    }\n",
       "\n",
       "    .dataframe thead th {\n",
       "        text-align: right;\n",
       "    }\n",
       "</style>\n",
       "<table border=\"1\" class=\"dataframe\">\n",
       "  <thead>\n",
       "    <tr style=\"text-align: right;\">\n",
       "      <th></th>\n",
       "      <th>cond</th>\n",
       "      <th>sub</th>\n",
       "      <th>accuracies</th>\n",
       "    </tr>\n",
       "  </thead>\n",
       "  <tbody>\n",
       "    <tr>\n",
       "      <th>0</th>\n",
       "      <td>31</td>\n",
       "      <td>7</td>\n",
       "      <td>0.500864</td>\n",
       "    </tr>\n",
       "    <tr>\n",
       "      <th>1</th>\n",
       "      <td>31</td>\n",
       "      <td>7</td>\n",
       "      <td>0.503012</td>\n",
       "    </tr>\n",
       "    <tr>\n",
       "      <th>2</th>\n",
       "      <td>31</td>\n",
       "      <td>7</td>\n",
       "      <td>0.502804</td>\n",
       "    </tr>\n",
       "    <tr>\n",
       "      <th>3</th>\n",
       "      <td>31</td>\n",
       "      <td>7</td>\n",
       "      <td>0.504215</td>\n",
       "    </tr>\n",
       "    <tr>\n",
       "      <th>4</th>\n",
       "      <td>31</td>\n",
       "      <td>7</td>\n",
       "      <td>0.507577</td>\n",
       "    </tr>\n",
       "    <tr>\n",
       "      <th>...</th>\n",
       "      <td>...</td>\n",
       "      <td>...</td>\n",
       "      <td>...</td>\n",
       "    </tr>\n",
       "    <tr>\n",
       "      <th>496</th>\n",
       "      <td>32</td>\n",
       "      <td>29</td>\n",
       "      <td>0.495005</td>\n",
       "    </tr>\n",
       "    <tr>\n",
       "      <th>497</th>\n",
       "      <td>32</td>\n",
       "      <td>29</td>\n",
       "      <td>0.492443</td>\n",
       "    </tr>\n",
       "    <tr>\n",
       "      <th>498</th>\n",
       "      <td>32</td>\n",
       "      <td>29</td>\n",
       "      <td>0.491275</td>\n",
       "    </tr>\n",
       "    <tr>\n",
       "      <th>499</th>\n",
       "      <td>32</td>\n",
       "      <td>29</td>\n",
       "      <td>0.491018</td>\n",
       "    </tr>\n",
       "    <tr>\n",
       "      <th>500</th>\n",
       "      <td>32</td>\n",
       "      <td>29</td>\n",
       "      <td>0.490446</td>\n",
       "    </tr>\n",
       "  </tbody>\n",
       "</table>\n",
       "<p>117234 rows × 3 columns</p>\n",
       "</div>"
      ],
      "text/plain": [
       "    cond sub  accuracies\n",
       "0     31   7    0.500864\n",
       "1     31   7    0.503012\n",
       "2     31   7    0.502804\n",
       "3     31   7    0.504215\n",
       "4     31   7    0.507577\n",
       "..   ...  ..         ...\n",
       "496   32  29    0.495005\n",
       "497   32  29    0.492443\n",
       "498   32  29    0.491275\n",
       "499   32  29    0.491018\n",
       "500   32  29    0.490446\n",
       "\n",
       "[117234 rows x 3 columns]"
      ]
     },
     "execution_count": 3,
     "metadata": {},
     "output_type": "execute_result"
    }
   ],
   "source": [
    "root = Path('../data/bids/derivatives/decoding/')\n",
    "df = pd.DataFrame()\n",
    "for file in root.rglob(\"*/*\"):\n",
    "    if 'target' in str(file):\n",
    "        continue\n",
    "    cond = re.findall('wavelet_(\\d{1,2})', file.name)[0]\n",
    "    sub = re.findall('sub-(\\d{1,2})', file.name)[0]\n",
    "    d = np.load(file)\n",
    "    d = d[416:] # Take only accuracies after tone onset, there are 0.6 msec per overlapping window\n",
    "    data_dict = {\n",
    "                 'cond': [cond]*501,\n",
    "                 'sub': [sub]*501,\n",
    "                 'accuracies': d,\n",
    "                }\n",
    "    sub_df = pd.DataFrame.from_dict(data_dict)\n",
    "    df = pd.concat([df, sub_df], ignore_index = False)\n",
    "df"
   ]
  },
  {
   "cell_type": "code",
   "execution_count": 4,
   "id": "814dc934",
   "metadata": {},
   "outputs": [],
   "source": [
    "# df['target'] = df.cond.replace({'11': '1', '12':  '0', '13': '0', '21': '0', '22': '1', '23': '0', '31': '0', '32': '0', '33': '1'})\n",
    "df['target'] = df.cond.replace({'11': 1, '12': 0, '13': 0, '21': 0, '22': 1, '23': 0, '31': 0, '32': 0, '33': 1})"
   ]
  },
  {
   "cell_type": "code",
   "execution_count": 5,
   "id": "bd60b776",
   "metadata": {},
   "outputs": [
    {
     "data": {
      "text/html": [
       "<div>\n",
       "<style scoped>\n",
       "    .dataframe tbody tr th:only-of-type {\n",
       "        vertical-align: middle;\n",
       "    }\n",
       "\n",
       "    .dataframe tbody tr th {\n",
       "        vertical-align: top;\n",
       "    }\n",
       "\n",
       "    .dataframe thead th {\n",
       "        text-align: right;\n",
       "    }\n",
       "</style>\n",
       "<table border=\"1\" class=\"dataframe\">\n",
       "  <thead>\n",
       "    <tr style=\"text-align: right;\">\n",
       "      <th></th>\n",
       "      <th>cond</th>\n",
       "      <th>sub</th>\n",
       "      <th>accuracies</th>\n",
       "      <th>target</th>\n",
       "    </tr>\n",
       "  </thead>\n",
       "  <tbody>\n",
       "    <tr>\n",
       "      <th>0</th>\n",
       "      <td>31</td>\n",
       "      <td>7</td>\n",
       "      <td>0.500864</td>\n",
       "      <td>0</td>\n",
       "    </tr>\n",
       "    <tr>\n",
       "      <th>1</th>\n",
       "      <td>31</td>\n",
       "      <td>7</td>\n",
       "      <td>0.503012</td>\n",
       "      <td>0</td>\n",
       "    </tr>\n",
       "    <tr>\n",
       "      <th>2</th>\n",
       "      <td>31</td>\n",
       "      <td>7</td>\n",
       "      <td>0.502804</td>\n",
       "      <td>0</td>\n",
       "    </tr>\n",
       "    <tr>\n",
       "      <th>3</th>\n",
       "      <td>31</td>\n",
       "      <td>7</td>\n",
       "      <td>0.504215</td>\n",
       "      <td>0</td>\n",
       "    </tr>\n",
       "    <tr>\n",
       "      <th>4</th>\n",
       "      <td>31</td>\n",
       "      <td>7</td>\n",
       "      <td>0.507577</td>\n",
       "      <td>0</td>\n",
       "    </tr>\n",
       "    <tr>\n",
       "      <th>...</th>\n",
       "      <td>...</td>\n",
       "      <td>...</td>\n",
       "      <td>...</td>\n",
       "      <td>...</td>\n",
       "    </tr>\n",
       "    <tr>\n",
       "      <th>496</th>\n",
       "      <td>32</td>\n",
       "      <td>29</td>\n",
       "      <td>0.495005</td>\n",
       "      <td>0</td>\n",
       "    </tr>\n",
       "    <tr>\n",
       "      <th>497</th>\n",
       "      <td>32</td>\n",
       "      <td>29</td>\n",
       "      <td>0.492443</td>\n",
       "      <td>0</td>\n",
       "    </tr>\n",
       "    <tr>\n",
       "      <th>498</th>\n",
       "      <td>32</td>\n",
       "      <td>29</td>\n",
       "      <td>0.491275</td>\n",
       "      <td>0</td>\n",
       "    </tr>\n",
       "    <tr>\n",
       "      <th>499</th>\n",
       "      <td>32</td>\n",
       "      <td>29</td>\n",
       "      <td>0.491018</td>\n",
       "      <td>0</td>\n",
       "    </tr>\n",
       "    <tr>\n",
       "      <th>500</th>\n",
       "      <td>32</td>\n",
       "      <td>29</td>\n",
       "      <td>0.490446</td>\n",
       "      <td>0</td>\n",
       "    </tr>\n",
       "  </tbody>\n",
       "</table>\n",
       "<p>117234 rows × 4 columns</p>\n",
       "</div>"
      ],
      "text/plain": [
       "    cond sub  accuracies  target\n",
       "0     31   7    0.500864       0\n",
       "1     31   7    0.503012       0\n",
       "2     31   7    0.502804       0\n",
       "3     31   7    0.504215       0\n",
       "4     31   7    0.507577       0\n",
       "..   ...  ..         ...     ...\n",
       "496   32  29    0.495005       0\n",
       "497   32  29    0.492443       0\n",
       "498   32  29    0.491275       0\n",
       "499   32  29    0.491018       0\n",
       "500   32  29    0.490446       0\n",
       "\n",
       "[117234 rows x 4 columns]"
      ]
     },
     "execution_count": 5,
     "metadata": {},
     "output_type": "execute_result"
    }
   ],
   "source": [
    "df"
   ]
  },
  {
   "cell_type": "code",
   "execution_count": 6,
   "id": "13898891",
   "metadata": {},
   "outputs": [],
   "source": [
    "decoding_by_target = df.groupby(['sub', 'target'])['accuracies'].mean()\n",
    "decoding_by_target = pd.DataFrame(decoding_by_target).reset_index()"
   ]
  },
  {
   "cell_type": "code",
   "execution_count": 7,
   "id": "fa7c35ee",
   "metadata": {},
   "outputs": [
    {
     "data": {
      "text/plain": [
       "<AxesSubplot:xlabel='target', ylabel='accuracies'>"
      ]
     },
     "execution_count": 7,
     "metadata": {},
     "output_type": "execute_result"
    },
    {
     "data": {
      "image/png": "[encoded data removed]",
      "text/plain": [
       "<Figure size 432x288 with 1 Axes>"
      ]
     },
     "metadata": {
      "needs_background": "light"
     },
     "output_type": "display_data"
    }
   ],
   "source": [
    "sns.boxplot(data = decoding_by_target, x = 'target', y = 'accuracies')"
   ]
  },
  {
   "cell_type": "markdown",
   "id": "e3962ce3",
   "metadata": {},
   "source": [
    "### Scatterplot"
   ]
  },
  {
   "cell_type": "code",
   "execution_count": 8,
   "id": "9a9f19c0",
   "metadata": {},
   "outputs": [
    {
     "data": {
      "text/html": [
       "<div>\n",
       "<style scoped>\n",
       "    .dataframe tbody tr th:only-of-type {\n",
       "        vertical-align: middle;\n",
       "    }\n",
       "\n",
       "    .dataframe tbody tr th {\n",
       "        vertical-align: top;\n",
       "    }\n",
       "\n",
       "    .dataframe thead th {\n",
       "        text-align: right;\n",
       "    }\n",
       "</style>\n",
       "<table border=\"1\" class=\"dataframe\">\n",
       "  <thead>\n",
       "    <tr style=\"text-align: right;\">\n",
       "      <th></th>\n",
       "      <th>sub</th>\n",
       "      <th>accuracies</th>\n",
       "    </tr>\n",
       "  </thead>\n",
       "  <tbody>\n",
       "    <tr>\n",
       "      <th>0</th>\n",
       "      <td>3</td>\n",
       "      <td>0.510869</td>\n",
       "    </tr>\n",
       "    <tr>\n",
       "      <th>1</th>\n",
       "      <td>4</td>\n",
       "      <td>0.509488</td>\n",
       "    </tr>\n",
       "    <tr>\n",
       "      <th>2</th>\n",
       "      <td>5</td>\n",
       "      <td>0.499418</td>\n",
       "    </tr>\n",
       "    <tr>\n",
       "      <th>3</th>\n",
       "      <td>6</td>\n",
       "      <td>0.511593</td>\n",
       "    </tr>\n",
       "    <tr>\n",
       "      <th>4</th>\n",
       "      <td>7</td>\n",
       "      <td>0.504924</td>\n",
       "    </tr>\n",
       "  </tbody>\n",
       "</table>\n",
       "</div>"
      ],
      "text/plain": [
       "   sub  accuracies\n",
       "0    3    0.510869\n",
       "1    4    0.509488\n",
       "2    5    0.499418\n",
       "3    6    0.511593\n",
       "4    7    0.504924"
      ]
     },
     "execution_count": 8,
     "metadata": {},
     "output_type": "execute_result"
    }
   ],
   "source": [
    "decoding_by_sub = df.groupby(['sub'])['accuracies'].mean()\n",
    "decoding_by_sub = pd.DataFrame(decoding_by_sub).reset_index()\n",
    "decoding_by_sub['sub'] = decoding_by_sub['sub'].astype(int)\n",
    "decoding_by_sub = decoding_by_sub.sort_values('sub').reset_index(drop = True)\n",
    "decoding_by_sub.head()"
   ]
  },
  {
   "cell_type": "code",
   "execution_count": 9,
   "id": "cbd98ab9",
   "metadata": {},
   "outputs": [
    {
     "data": {
      "text/html": [
       "<div>\n",
       "<style scoped>\n",
       "    .dataframe tbody tr th:only-of-type {\n",
       "        vertical-align: middle;\n",
       "    }\n",
       "\n",
       "    .dataframe tbody tr th {\n",
       "        vertical-align: top;\n",
       "    }\n",
       "\n",
       "    .dataframe thead th {\n",
       "        text-align: right;\n",
       "    }\n",
       "</style>\n",
       "<table border=\"1\" class=\"dataframe\">\n",
       "  <thead>\n",
       "    <tr style=\"text-align: right;\">\n",
       "      <th></th>\n",
       "      <th>sub_num</th>\n",
       "      <th>accuracy</th>\n",
       "    </tr>\n",
       "  </thead>\n",
       "  <tbody>\n",
       "    <tr>\n",
       "      <th>0</th>\n",
       "      <td>3</td>\n",
       "      <td>0.785415</td>\n",
       "    </tr>\n",
       "    <tr>\n",
       "      <th>1</th>\n",
       "      <td>4</td>\n",
       "      <td>0.958154</td>\n",
       "    </tr>\n",
       "    <tr>\n",
       "      <th>2</th>\n",
       "      <td>5</td>\n",
       "      <td>0.919971</td>\n",
       "    </tr>\n",
       "    <tr>\n",
       "      <th>3</th>\n",
       "      <td>6</td>\n",
       "      <td>0.921653</td>\n",
       "    </tr>\n",
       "    <tr>\n",
       "      <th>4</th>\n",
       "      <td>7</td>\n",
       "      <td>0.911613</td>\n",
       "    </tr>\n",
       "  </tbody>\n",
       "</table>\n",
       "</div>"
      ],
      "text/plain": [
       "   sub_num  accuracy\n",
       "0        3  0.785415\n",
       "1        4  0.958154\n",
       "2        5  0.919971\n",
       "3        6  0.921653\n",
       "4        7  0.911613"
      ]
     },
     "execution_count": 9,
     "metadata": {},
     "output_type": "execute_result"
    }
   ],
   "source": [
    "accuracy_by_sub = accuracy.groupby(['sub_num'])['accuracy'].mean()\n",
    "accuracy_by_sub = pd.DataFrame(accuracy_by_sub).reset_index()\n",
    "accuracy_by_sub = accuracy_by_sub[~accuracy_by_sub['sub_num'].isin([1, 2, 17, 30, 31])] # drop subs\n",
    "accuracy_by_sub = accuracy_by_sub.reset_index(drop = True)\n",
    "accuracy_by_sub.head()"
   ]
  },
  {
   "cell_type": "code",
   "execution_count": 10,
   "id": "26bad4b3",
   "metadata": {},
   "outputs": [
    {
     "data": {
      "text/plain": [
       "<AxesSubplot:xlabel='accuracy', ylabel='decoding'>"
      ]
     },
     "execution_count": 10,
     "metadata": {},
     "output_type": "execute_result"
    },
    {
     "data": {
      "image/png": "[encoded data removed]",
      "text/plain": [
       "<Figure size 432x288 with 1 Axes>"
      ]
     },
     "metadata": {
      "needs_background": "light"
     },
     "output_type": "display_data"
    }
   ],
   "source": [
    "accuracy_by_sub['decoding'] = decoding_by_sub.accuracies\n",
    "accuracy_by_sub\n",
    "sns.scatterplot(data = accuracy_by_sub, x = 'accuracy', y = 'decoding')\n",
    "# sns.scatterplot(data=tips, x=\"total_bill\", y=\"tip\")"
   ]
  },
  {
   "cell_type": "code",
   "execution_count": 13,
   "id": "6dd9af34",
   "metadata": {},
   "outputs": [
    {
     "name": "stdout",
     "output_type": "stream",
     "text": [
      "coefficient of determination: 0.08886477269589466\n"
     ]
    }
   ],
   "source": [
    "# Create linear regression object\n",
    "# regr = LinearRegression()\n",
    "\n",
    "# Train the model using the training sets\n",
    "x = accuracy_by_sub.accuracy.values.reshape(-1, 1)\n",
    "y = decoding_by_sub.accuracies.values\n",
    "model = LinearRegression().fit(x, y)\n",
    "r_sq = model.score(x, y)\n",
    "print(f\"coefficient of determination: {r_sq}\")\n",
    "\n",
    "# # Make predictions using the testing set\n",
    "# # diabetes_y_pred = regr.predict(diabetes_X_test)\n",
    "\n",
    "# # The coefficients\n",
    "# print(\"Coefficients: \\n\", regr.coef_)\n",
    "# # The mean squared error\n",
    "# # print(\"Mean squared error: %.2f\" % mean_squared_error(diabetes_y_test, diabetes_y_pred))\n",
    "# # # The coefficient of determination: 1 is perfect prediction\n",
    "# # print(\"Coefficient of determination: %.2f\" % r2_score(diabetes_y_test, diabetes_y_pred))\n",
    "\n",
    "# # Plot outputs\n",
    "# plt.scatter(accuracy_by_sub.accuracy, decoding_by_sub.accuracies, color=\"black\")\n",
    "# plt.plot(accuracy_by_sub.accuracy, decoding_by_sub.accuracies, color=\"blue\", linewidth=3)\n",
    "\n",
    "# plt.xticks(())\n",
    "# plt.yticks(())\n",
    "\n",
    "# plt.show()"
   ]
  },
  {
   "cell_type": "code",
   "execution_count": null,
   "id": "e5ba5d3f",
   "metadata": {},
   "outputs": [],
   "source": []
  }
 ],
 "metadata": {
  "kernelspec": {
   "display_name": "Python 3 (ipykernel)",
   "language": "python",
   "name": "python3"
  },
  "language_info": {
   "codemirror_mode": {
    "name": "ipython",
    "version": 3
   },
   "file_extension": ".py",
   "mimetype": "text/x-python",
   "name": "python",
   "nbconvert_exporter": "python",
   "pygments_lexer": "ipython3",
   "version": "3.11.7"
  }
 },
 "nbformat": 4,
 "nbformat_minor": 5
}
