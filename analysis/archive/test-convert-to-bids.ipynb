{
 "cells": [
  {
   "cell_type": "code",
   "execution_count": 11,
   "id": "574a8ca1-ccfb-41b2-8ef3-4e0fe7118045",
   "metadata": {},
   "outputs": [
    {
     "name": "stdout",
     "output_type": "stream",
     "text": [
      "/project/hcn1/Letty/expectations-ffr/data/raw/sub-3_task-expectations.vhdr\n",
      "Extracting parameters from /project/hcn1/Letty/expectations-ffr/data/raw/sub-3_task-expectations.vhdr...\n",
      "Setting channel info structure...\n"
     ]
    },
    {
     "name": "stderr",
     "output_type": "stream",
     "text": [
      "/home/letitiayhho/ipykernel_797702/1160815236.py:23: RuntimeWarning: No coordinate information found for channels ['leog', 'reog', 'Aux']. Setting channel types to misc. To avoid this warning, set channel types explicitly.\n",
      "  raw = mne.io.read_raw_brainvision(fpath)\n",
      "/home/letitiayhho/ipykernel_797702/1160815236.py:23: RuntimeWarning: Online software filter detected. Using software filter settings and ignoring hardware values\n",
      "  raw = mne.io.read_raw_brainvision(fpath)\n",
      "/home/letitiayhho/ipykernel_797702/1160815236.py:23: RuntimeWarning: Not setting positions of 3 misc channels found in montage:\n",
      "['leog', 'reog', 'Aux']\n",
      "Consider setting the channel types to be of EEG/sEEG/ECoG/DBS/fNIRS using inst.set_channel_types before calling inst.set_montage, or omit these channels when creating your montage.\n",
      "  raw = mne.io.read_raw_brainvision(fpath)\n"
     ]
    },
    {
     "name": "stdout",
     "output_type": "stream",
     "text": [
      "Reading 0 ... 30437999  =      0.000 ...  3043.800 secs...\n"
     ]
    },
    {
     "name": "stderr",
     "output_type": "stream",
     "text": [
      "/home/letitiayhho/ipykernel_797702/1160815236.py:25: RuntimeWarning: The unit for channel(s) Aux has changed from NA to V.\n",
      "  raw.set_channel_types({'Aux': 'stim'})\n"
     ]
    },
    {
     "name": "stdout",
     "output_type": "stream",
     "text": [
      "Add line_freq to raw.info\n"
     ]
    },
    {
     "name": "stderr",
     "output_type": "stream",
     "text": [
      "/home/letitiayhho/ipykernel_797702/1160815236.py:30: RuntimeWarning: The locations of multiple reference channels are ignored.\n",
      "  raw.add_reference_channels(ref_channels = ['FCz'])\n"
     ]
    },
    {
     "name": "stdout",
     "output_type": "stream",
     "text": [
      "Set annotations\n",
      "Used Annotations descriptions: ['New Segment/', 'Stimulus/S 11', 'Stimulus/S 12', 'Stimulus/S 13', 'Stimulus/S 21', 'Stimulus/S 22', 'Stimulus/S 23', 'Stimulus/S 31', 'Stimulus/S 32', 'Stimulus/S 33', 'Stimulus/S 41', 'Stimulus/S 42', 'Stimulus/S 43', 'Stimulus/S 51', 'Stimulus/S 52', 'Stimulus/S 53', 'Stimulus/S 61', 'Stimulus/S 62', 'Stimulus/S 63']\n",
      "Shifting event timings for 10000.0 by 1000 points\n"
     ]
    }
   ],
   "source": [
    "from mne_bids import BIDSPath, write_raw_bids, get_anonymization_daysback\n",
    "import random\n",
    "import pandas as pd\n",
    "import numpy as np\n",
    "import itertools\n",
    "import mne\n",
    "import os\n",
    "import sys\n",
    "import re\n",
    "\n",
    "fpath = '/project/hcn1/Letty/expectations-ffr/data/raw/sub-3_task-expectations.vhdr'\n",
    "sub = '3'\n",
    "task = 'expectations'\n",
    "run = '1'\n",
    "\n",
    "RAW_DIR = '../data/raw/' \n",
    "MAPS_DIR = '../data/captrak/'\n",
    "BIDS_DIR = '../data/bids/'\n",
    "\n",
    "# load data with MNE function for your file format\n",
    "fpath = os.path.join(RAW_DIR, fpath)\n",
    "print(fpath)\n",
    "raw = mne.io.read_raw_brainvision(fpath)\n",
    "raw.load_data()\n",
    "raw.set_channel_types({'Aux': 'stim'})\n",
    "\n",
    "# add some info BIDS will want\n",
    "print(\"Add line_freq to raw.info\")\n",
    "raw.info['line_freq'] = 60 # the power line frequency in the building we collected in\n",
    "raw.add_reference_channels(ref_channels = ['FCz'])\n",
    "\n",
    "# drop meaningless event name\n",
    "print(\"Set annotations\")\n",
    "events, event_ids = mne.events_from_annotations(raw)\n",
    "events = events[events[:,2] != event_ids['New Segment/'], :]\n",
    "sfreq = raw.info['sfreq']\n",
    "if sfreq == 10000.0: \n",
    "    print(f'Shifting event timings for {sfreq} by 1000 points')\n",
    "    events[:,0] = events[:,0] + 1000 # Fix timestamp\n",
    "elif sfreq == 5000.0:\n",
    "    print(f'Shifting event timings for {sfreq} by 500 points')\n",
    "    events[:,0] = events[:,0] + 500 # Fix timestamp\n",
    "\n",
    "# # rename events to their stimulus pitch\n",
    "# annot = mne.annotations_from_events(events, sfreq = raw.info['sfreq'])\n",
    "# raw.set_annotations(annot)\n",
    "\n",
    "# # get range of dates the BIDS specification will accept\n",
    "# daysback_min, daysback_max = get_anonymization_daysback(raw)"
   ]
  },
  {
   "cell_type": "code",
   "execution_count": 8,
   "id": "b0490ab4-002a-406e-a34b-243c18647c0b",
   "metadata": {},
   "outputs": [
    {
     "ename": "NameError",
     "evalue": "name 'events' is not defined",
     "output_type": "error",
     "traceback": [
      "\u001b[0;31m---------------------------------------------------------------------------\u001b[0m",
      "\u001b[0;31mNameError\u001b[0m                                 Traceback (most recent call last)",
      "Cell \u001b[0;32mIn[8], line 1\u001b[0m\n\u001b[0;32m----> 1\u001b[0m \u001b[43mevents\u001b[49m\n",
      "\u001b[0;31mNameError\u001b[0m: name 'events' is not defined"
     ]
    }
   ],
   "source": [
    "events"
   ]
  },
  {
   "cell_type": "code",
   "execution_count": 10,
   "id": "eecf2c06-f15c-4969-b252-44895eb5913e",
   "metadata": {},
   "outputs": [],
   "source": [
    "events[:,0] = events[:,0] + 100"
   ]
  },
  {
   "cell_type": "code",
   "execution_count": 11,
   "id": "6f3eb5bf-edbe-4086-aa27-c21f7f8d45db",
   "metadata": {},
   "outputs": [
    {
     "data": {
      "text/plain": [
       "array([  583706,   588977,   594385, ..., 42581906, 42587327, 42592495])"
      ]
     },
     "execution_count": 11,
     "metadata": {},
     "output_type": "execute_result"
    }
   ],
   "source": [
    "events[:,0]"
   ]
  },
  {
   "cell_type": "code",
   "execution_count": 4,
   "id": "79aa6fd6-93e7-438c-87c1-f26f9cca9ea2",
   "metadata": {},
   "outputs": [
    {
     "data": {
      "text/plain": [
       "9.728433333333333"
      ]
     },
     "execution_count": 4,
     "metadata": {},
     "output_type": "execute_result"
    }
   ],
   "source": [
    "583706/60/1000"
   ]
  },
  {
   "cell_type": "code",
   "execution_count": null,
   "id": "3f712158-a9a5-452d-843f-bd947addeffa",
   "metadata": {},
   "outputs": [],
   "source": []
  }
 ],
 "metadata": {
  "kernelspec": {
   "display_name": "Python 3 (ipykernel)",
   "language": "python",
   "name": "python3"
  },
  "language_info": {
   "codemirror_mode": {
    "name": "ipython",
    "version": 3
   },
   "file_extension": ".py",
   "mimetype": "text/x-python",
   "name": "python",
   "nbconvert_exporter": "python",
   "pygments_lexer": "ipython3",
   "version": "3.11.7"
  }
 },
 "nbformat": 4,
 "nbformat_minor": 5
}
