{
 "cells": [
  {
   "cell_type": "code",
   "execution_count": 1,
   "id": "7356aa69",
   "metadata": {},
   "outputs": [],
   "source": [
    "import numpy as np\n",
    "import seaborn as sns\n",
    "import mne"
   ]
  },
  {
   "cell_type": "code",
   "execution_count": 2,
   "id": "d393936c",
   "metadata": {},
   "outputs": [
    {
     "name": "stdout",
     "output_type": "stream",
     "text": [
      "Extracting parameters from ../../data/raw/pta_sub-2.vhdr...\n",
      "Setting channel info structure...\n",
      "Used Annotations descriptions: ['New Segment/', 'Stimulus/S 11', 'Stimulus/S 12', 'Stimulus/S 13', 'Stimulus/S 21', 'Stimulus/S 22', 'Stimulus/S 23', 'Stimulus/S 31', 'Stimulus/S 32', 'Stimulus/S 33']\n",
      "[[       0        0    99999]\n",
      " [   38854        0       13]\n",
      " [   41224        0       13]\n",
      " ...\n",
      " [20200895        0       11]\n",
      " [20203515        0       12]\n",
      " [20206117        0       12]]\n"
     ]
    }
   ],
   "source": [
    "# Load raw data and event information\n",
    "raw = mne.io.read_raw_brainvision('../../data/raw/pta_sub-2.vhdr')\n",
    "events, event_ids = mne.events_from_annotations(raw)\n",
    "print(events)"
   ]
  },
  {
   "cell_type": "code",
   "execution_count": 3,
   "id": "a3237158",
   "metadata": {},
   "outputs": [],
   "source": [
    "onsets = events[:,0] # units is samples, sampling rate is 5k\n",
    "isi = np.array([x - y for x, y in zip(onsets[1:], onsets)])\n",
    "isi = isi[isi < 100000]\n",
    "indexes_of_first_tones = np.where(isi > 5000)[0]"
   ]
  },
  {
   "cell_type": "code",
   "execution_count": 12,
   "id": "94d2a1c2",
   "metadata": {},
   "outputs": [
    {
     "data": {
      "text/plain": [
       "(0.15, 0.31)"
      ]
     },
     "execution_count": 12,
     "metadata": {},
     "output_type": "execute_result"
    },
    {
     "data": {
      "image/png": "[encoded data removed]",
      "text/plain": [
       "<Figure size 432x288 with 1 Axes>"
      ]
     },
     "metadata": {
      "needs_background": "light"
     },
     "output_type": "display_data"
    }
   ],
   "source": [
    "time_between_all_tones = isi[isi < 5000]/5000\n",
    "ax = sns.histplot(data=time_between_all_tones-0.3)\n",
    "ax.set_xlim(0.15, 0.31)"
   ]
  },
  {
   "cell_type": "code",
   "execution_count": 13,
   "id": "0eafda9a",
   "metadata": {},
   "outputs": [
    {
     "data": {
      "text/plain": [
       "0.49876200000000004"
      ]
     },
     "execution_count": 13,
     "metadata": {},
     "output_type": "execute_result"
    },
    {
     "data": {
      "image/png": "[encoded data removed]",
      "text/plain": [
       "<Figure size 432x288 with 1 Axes>"
      ]
     },
     "metadata": {
      "needs_background": "light"
     },
     "output_type": "display_data"
    }
   ],
   "source": [
    "time_between_first_and_second_tones = isi[indexes_of_first_tones + 1]/5000\n",
    "ax = sns.histplot(data=time_between_first_and_second_tones-0.3)\n",
    "ax.set_xlim(0.15, 0.31)\n",
    "ax.set_ylim(0, 300)\n",
    "np.mean(time_between_first_and_second_tones)"
   ]
  },
  {
   "cell_type": "code",
   "execution_count": 14,
   "id": "0261aa49",
   "metadata": {},
   "outputs": [
    {
     "data": {
      "text/plain": [
       "0.550489183222958"
      ]
     },
     "execution_count": 14,
     "metadata": {},
     "output_type": "execute_result"
    },
    {
     "data": {
      "image/png": "[encoded data removed]",
      "text/plain": [
       "<Figure size 432x288 with 1 Axes>"
      ]
     },
     "metadata": {
      "needs_background": "light"
     },
     "output_type": "display_data"
    }
   ],
   "source": [
    "indexes_of_first_and_second_tones = np.concatenate((indexes_of_first_tones, indexes_of_first_tones + 1))\n",
    "indexes_of_all_tones_but_first_and_second_tones = list(set(np.arange(len(isi))) ^ set(indexes_of_first_and_second_tones))\n",
    "time_between_tones_after_second = isi[indexes_of_all_tones_but_first_and_second_tones]/5000\n",
    "ax = sns.histplot(data=time_between_tones_after_second-0.3)\n",
    "ax.set_xlim(0.15, 0.31)\n",
    "ax.set_ylim(0, 300)\n",
    "np.mean(time_between_tones_after_second)"
   ]
  },
  {
   "cell_type": "code",
   "execution_count": 15,
   "id": "270f5dd8",
   "metadata": {},
   "outputs": [
    {
     "data": {
      "text/plain": [
       "<AxesSubplot:ylabel='Count'>"
      ]
     },
     "execution_count": 15,
     "metadata": {},
     "output_type": "execute_result"
    },
    {
     "data": {
      "image/png": "[encoded data removed]",
      "text/plain": [
       "<Figure size 432x288 with 1 Axes>"
      ]
     },
     "metadata": {
      "needs_background": "light"
     },
     "output_type": "display_data"
    }
   ],
   "source": [
    "time_between_sequences = isi[indexes_of_first_tones]/5000\n",
    "sns.histplot(data=time_between_sequences)"
   ]
  },
  {
   "cell_type": "code",
   "execution_count": null,
   "id": "7602130b",
   "metadata": {},
   "outputs": [],
   "source": []
  }
 ],
 "metadata": {
  "kernelspec": {
   "display_name": "Python 3",
   "language": "python",
   "name": "python3"
  },
  "language_info": {
   "codemirror_mode": {
    "name": "ipython",
    "version": 3
   },
   "file_extension": ".py",
   "mimetype": "text/x-python",
   "name": "python",
   "nbconvert_exporter": "python",
   "pygments_lexer": "ipython3",
   "version": "3.9.5"
  }
 },
 "nbformat": 4,
 "nbformat_minor": 5
}
